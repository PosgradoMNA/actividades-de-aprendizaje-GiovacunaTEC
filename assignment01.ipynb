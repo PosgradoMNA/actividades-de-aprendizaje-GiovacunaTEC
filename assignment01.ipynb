{
  "nbformat": 4,
  "nbformat_minor": 0,
  "metadata": {
    "colab": {
      "name": "assignment01.ipynb",
      "provenance": [],
      "include_colab_link": true
    },
    "kernelspec": {
      "name": "python3",
      "display_name": "Python 3"
    },
    "language_info": {
      "name": "python"
    }
  },
  "cells": [
    {
      "cell_type": "markdown",
      "metadata": {
        "id": "view-in-github",
        "colab_type": "text"
      },
      "source": [
        "<a href=\"https://colab.research.google.com/github/PosgradoMNA/actividades-de-aprendizaje-GiovacunaTEC/blob/main/assignment01.ipynb\" target=\"_parent\"><img src=\"https://colab.research.google.com/assets/colab-badge.svg\" alt=\"Open In Colab\"/></a>"
      ]
    },
    {
      "cell_type": "code",
      "execution_count": 1,
      "metadata": {
        "id": "LzUSMM79NR9P"
      },
      "outputs": [],
      "source": [
        "Student_Name = 'Giovanni Andrés Acuña Morales'\n",
        "ID_Student = 'A01794007'"
      ]
    },
    {
      "cell_type": "code",
      "source": [
        "print(f'Presentado por: {Student_Name}, con el código de Estudiante: {ID_Student}')"
      ],
      "metadata": {
        "id": "mxM_WppZPMFx",
        "colab": {
          "base_uri": "https://localhost:8080/"
        },
        "outputId": "2f01f9b4-71dd-49d6-fa70-681c7fe58b53"
      },
      "execution_count": 2,
      "outputs": [
        {
          "output_type": "stream",
          "name": "stdout",
          "text": [
            "Presentado por: Giovanni Andrés Acuña Morales, con el código de Estudiante: A01794007\n"
          ]
        }
      ]
    },
    {
      "cell_type": "markdown",
      "source": [
        "# Module 1 - Python Basics\n",
        "\n",
        "## Review Question 1.\n",
        "\n",
        "What is the result of the following operation in Python: 3 + 2 * 2"
      ],
      "metadata": {
        "id": "f-1yi7BMxAcv"
      }
    },
    {
      "cell_type": "code",
      "source": [
        "print(3 + 2 * 2)"
      ],
      "metadata": {
        "id": "J7k7TCbgxLs5",
        "outputId": "9541e95d-3f80-42cd-f3a6-fbf390f89180",
        "colab": {
          "base_uri": "https://localhost:8080/"
        }
      },
      "execution_count": 3,
      "outputs": [
        {
          "output_type": "stream",
          "name": "stdout",
          "text": [
            "7\n"
          ]
        }
      ]
    },
    {
      "cell_type": "markdown",
      "source": [
        "##Review Question 2\n",
        "\n",
        "In Python, if you executed name = 'Lizz', what would be the output of print(name[0:2])?"
      ],
      "metadata": {
        "id": "GcAiPqT0xf73"
      }
    },
    {
      "cell_type": "code",
      "source": [
        "name = 'Lizz'\n",
        "print(name[0:2])"
      ],
      "metadata": {
        "id": "sRH2FAutxlWq",
        "outputId": "8ec43799-c17c-4162-b762-b92d43e715d8",
        "colab": {
          "base_uri": "https://localhost:8080/"
        }
      },
      "execution_count": 5,
      "outputs": [
        {
          "output_type": "stream",
          "name": "stdout",
          "text": [
            "Li\n"
          ]
        }
      ]
    },
    {
      "cell_type": "markdown",
      "source": [
        "##Review Question 3\n",
        "\n",
        "In Python, if you executed var = '01234567', what would be the result of print(var[::2])?"
      ],
      "metadata": {
        "id": "ySbvMWVyxve6"
      }
    },
    {
      "cell_type": "code",
      "source": [
        "var = '01234567'\n",
        "print(var[::2])"
      ],
      "metadata": {
        "id": "K1aCqnQrxur4",
        "outputId": "0eb3d3e8-2040-4833-ed42-017c54dd7fb2",
        "colab": {
          "base_uri": "https://localhost:8080/"
        }
      },
      "execution_count": 6,
      "outputs": [
        {
          "output_type": "stream",
          "name": "stdout",
          "text": [
            "0246\n"
          ]
        }
      ]
    },
    {
      "cell_type": "markdown",
      "source": [
        "##Review Question 4\n",
        "\n",
        "In Python, what is the result of the following operation '1'+'2'?"
      ],
      "metadata": {
        "id": "_JW7wujex5Jo"
      }
    },
    {
      "cell_type": "code",
      "source": [
        "print('1'+'2')"
      ],
      "metadata": {
        "id": "DlS1gywexp6N",
        "outputId": "0764de5b-aa75-4acb-a3b0-ee55162e3d0a",
        "colab": {
          "base_uri": "https://localhost:8080/"
        }
      },
      "execution_count": 7,
      "outputs": [
        {
          "output_type": "stream",
          "name": "stdout",
          "text": [
            "12\n"
          ]
        }
      ]
    },
    {
      "cell_type": "markdown",
      "source": [
        "##Review Question 5\n",
        "\n",
        "Given myvar = 'hello', how would you convert myvar into uppercase?"
      ],
      "metadata": {
        "id": "JDA4H_EiyGOY"
      }
    },
    {
      "cell_type": "code",
      "source": [
        "myvar = 'hello'\n",
        "print(myvar)"
      ],
      "metadata": {
        "id": "fllTYumuyJiH",
        "outputId": "c2971c83-3059-49d3-ffc8-c73fa65ebfe1",
        "colab": {
          "base_uri": "https://localhost:8080/"
        }
      },
      "execution_count": 8,
      "outputs": [
        {
          "output_type": "stream",
          "name": "stdout",
          "text": [
            "hello\n"
          ]
        }
      ]
    },
    {
      "cell_type": "code",
      "source": [
        "print(myvar.upper())\n"
      ],
      "metadata": {
        "id": "3zxfk5nKyPSG",
        "outputId": "95c00d01-bd44-4263-c7a9-856fb52373fb",
        "colab": {
          "base_uri": "https://localhost:8080/"
        }
      },
      "execution_count": 9,
      "outputs": [
        {
          "output_type": "stream",
          "name": "stdout",
          "text": [
            "HELLO\n"
          ]
        }
      ]
    },
    {
      "cell_type": "markdown",
      "source": [
        "#Module 2 - Python Data Structures\n",
        "\n",
        "##Question 1\n",
        "\n",
        "What is the syntax used to obtain the first element of the tuple:"
      ],
      "metadata": {
        "id": "kuhK4u_dyg6v"
      }
    },
    {
      "cell_type": "code",
      "source": [
        "A = ('a','b','c')\n",
        "print(A)"
      ],
      "metadata": {
        "id": "f_a-dAI0yo1s",
        "outputId": "b8faa3bd-992a-4ad6-a11e-98e50b7882b8",
        "colab": {
          "base_uri": "https://localhost:8080/"
        }
      },
      "execution_count": 10,
      "outputs": [
        {
          "output_type": "stream",
          "name": "stdout",
          "text": [
            "('a', 'b', 'c')\n"
          ]
        }
      ]
    },
    {
      "cell_type": "code",
      "source": [
        "print(A[0])"
      ],
      "metadata": {
        "id": "6eFkXoqtyw-k",
        "outputId": "334504d6-0046-40f8-ab22-b69ac43f4dd8",
        "colab": {
          "base_uri": "https://localhost:8080/"
        }
      },
      "execution_count": 11,
      "outputs": [
        {
          "output_type": "stream",
          "name": "stdout",
          "text": [
            "a\n"
          ]
        }
      ]
    },
    {
      "cell_type": "markdown",
      "source": [
        "##Question 2\n",
        "\n",
        "After applying the following method, L.append(['a','b']), the following list will only be one element longer."
      ],
      "metadata": {
        "id": "DVI3-uXIy190"
      }
    },
    {
      "cell_type": "code",
      "source": [
        " L = []"
      ],
      "metadata": {
        "id": "klwFdRtqzR8Y"
      },
      "execution_count": 16,
      "outputs": []
    },
    {
      "cell_type": "code",
      "source": [
        " L.append(['a','b'])\n",
        " print(L)"
      ],
      "metadata": {
        "id": "GBfBhA27zVO2",
        "outputId": "6000a957-e057-4219-cc3e-43775aaa389e",
        "colab": {
          "base_uri": "https://localhost:8080/"
        }
      },
      "execution_count": 17,
      "outputs": [
        {
          "output_type": "stream",
          "name": "stdout",
          "text": [
            "[['a', 'b']]\n"
          ]
        }
      ]
    },
    {
      "cell_type": "markdown",
      "source": [
        "##Question 4\n",
        "\n",
        "Consider the following Python dictionary:\n",
        "\n",
        "Dict={\"A\":1,\"B\":\"2\",\"C\":[3,3,3],\"D\":(4,4,4),'E':5,'F':6}\n",
        "\n",
        "What is the result of the following operation: Dict[\"D\"]?"
      ],
      "metadata": {
        "id": "_31zbB3TzoMG"
      }
    },
    {
      "cell_type": "code",
      "source": [
        "Dict={\"A\":1,\"B\":\"2\",\"C\":[3,3,3],\"D\":(4,4,4),'E':5,'F':6}\n",
        "print(Dict)"
      ],
      "metadata": {
        "id": "WNLMhcPOzut8",
        "outputId": "f853bc5d-c6fe-4c52-81e7-af7203102267",
        "colab": {
          "base_uri": "https://localhost:8080/"
        }
      },
      "execution_count": 18,
      "outputs": [
        {
          "output_type": "stream",
          "name": "stdout",
          "text": [
            "{'A': 1, 'B': '2', 'C': [3, 3, 3], 'D': (4, 4, 4), 'E': 5, 'F': 6}\n"
          ]
        }
      ]
    },
    {
      "cell_type": "code",
      "source": [
        "print(Dict[\"D\"])"
      ],
      "metadata": {
        "id": "zbh2mwqCzy_u",
        "outputId": "5a10e31d-64e4-4fa9-e47a-beaba9c5aa82",
        "colab": {
          "base_uri": "https://localhost:8080/"
        }
      },
      "execution_count": 19,
      "outputs": [
        {
          "output_type": "stream",
          "name": "stdout",
          "text": [
            "(4, 4, 4)\n"
          ]
        }
      ]
    },
    {
      "cell_type": "markdown",
      "source": [
        "#Module 3 - Python Programming Fundamentals\n",
        "\n",
        "##Question 1\n",
        "\n",
        "What is the output of the following lines of code:\n",
        "\n",
        "x=1\n",
        "\n",
        "if(x!=1):\n",
        "\n",
        "print('Hello')\n",
        "\n",
        "else:\n",
        "\n",
        "print('Hi')\n",
        "\n",
        "print('Mike')"
      ],
      "metadata": {
        "id": "y-c3lLd0z7AW"
      }
    },
    {
      "cell_type": "code",
      "source": [
        "x=1\n",
        "\n",
        "if(x!=1):\n",
        "\n",
        "  print('Hello')\n",
        "\n",
        "else:\n",
        "\n",
        "  print('Hi')\n",
        "\n",
        "print('Mike')"
      ],
      "metadata": {
        "id": "A-0OPD3x0FUw",
        "outputId": "a3dfc649-181f-4b2d-9db2-bf301b5acce3",
        "colab": {
          "base_uri": "https://localhost:8080/"
        }
      },
      "execution_count": 20,
      "outputs": [
        {
          "output_type": "stream",
          "name": "stdout",
          "text": [
            "Hi\n",
            "Mike\n"
          ]
        }
      ]
    },
    {
      "cell_type": "markdown",
      "source": [
        "##Question 2\n",
        "\n",
        "What is the output of the following few lines of code?\n",
        "\n",
        "A = ['1','2','3']\n",
        "\n",
        "for a in A:\n",
        "\n",
        "print(2*a)"
      ],
      "metadata": {
        "id": "ZIojgmRs10PR"
      }
    },
    {
      "cell_type": "code",
      "source": [
        "A = ['1','2','3']\n",
        "\n",
        "for a in A:\n",
        "\n",
        "  print(2*a)"
      ],
      "metadata": {
        "id": "8o_wD1k_13IF",
        "outputId": "79b992e0-cd1b-46fc-d30f-88f922e52c1d",
        "colab": {
          "base_uri": "https://localhost:8080/"
        }
      },
      "execution_count": 21,
      "outputs": [
        {
          "output_type": "stream",
          "name": "stdout",
          "text": [
            "11\n",
            "22\n",
            "33\n"
          ]
        }
      ]
    },
    {
      "cell_type": "markdown",
      "source": [
        "##Question 3\n",
        "\n",
        "Consider the function Delta, when will the function return a value of 1\n",
        "\n",
        "def Delta(x):\n",
        "\n",
        "if x==0:\n",
        "\n",
        "y=1;\n",
        "\n",
        "else:\n",
        "\n",
        "y=0;\n",
        "\n",
        "return(y)"
      ],
      "metadata": {
        "id": "HSWPH6Ge1-i5"
      }
    },
    {
      "cell_type": "code",
      "source": [
        "def Delta(x):\n",
        "\n",
        "  if x==0:\n",
        "\n",
        "    y=1;\n",
        "\n",
        "  else:\n",
        "\n",
        "    y=0;\n",
        "\n",
        "  return(y)\n",
        "\n",
        "print(Delta(0))"
      ],
      "metadata": {
        "id": "DGFMMSAu2Cfe",
        "outputId": "a63ed893-5e0a-4447-bd32-2057267bc10b",
        "colab": {
          "base_uri": "https://localhost:8080/"
        }
      },
      "execution_count": 24,
      "outputs": [
        {
          "output_type": "stream",
          "name": "stdout",
          "text": [
            "1\n"
          ]
        }
      ]
    },
    {
      "cell_type": "markdown",
      "source": [
        "##Question 4\n",
        "\n",
        "What is the correct way to sort the list 'B' using a method? The result should not return a new list, just change the list 'B'."
      ],
      "metadata": {
        "id": "IirzRPXE2W_x"
      }
    },
    {
      "cell_type": "code",
      "source": [
        "B = ['Ford', 'BMW', 'Volvo', 'Chevere', 'Bicicleta']\n",
        "print(B)"
      ],
      "metadata": {
        "id": "2AB9bYjH2bqn",
        "outputId": "f76ab53f-3d46-430b-dec7-ea3164384b3f",
        "colab": {
          "base_uri": "https://localhost:8080/"
        }
      },
      "execution_count": 30,
      "outputs": [
        {
          "output_type": "stream",
          "name": "stdout",
          "text": [
            "['Ford', 'BMW', 'Volvo', 'Chevere', 'Bicicleta']\n"
          ]
        }
      ]
    },
    {
      "cell_type": "code",
      "source": [
        "B.sort()\n",
        "print(B)"
      ],
      "metadata": {
        "id": "T5XBAOur2ovl",
        "outputId": "d1b339c9-5810-4a4b-ec5c-9c84d72c296d",
        "colab": {
          "base_uri": "https://localhost:8080/"
        }
      },
      "execution_count": 31,
      "outputs": [
        {
          "output_type": "stream",
          "name": "stdout",
          "text": [
            "['BMW', 'Bicicleta', 'Chevere', 'Ford', 'Volvo']\n"
          ]
        }
      ]
    },
    {
      "cell_type": "markdown",
      "source": [
        "##Question 5\n",
        "\n",
        "What are the keys of the following dictionary: {'a':1,'b':2}?"
      ],
      "metadata": {
        "id": "4tcl-aZ03MWT"
      }
    },
    {
      "cell_type": "code",
      "source": [
        "dict = {'a':1,'b':2}\n",
        "print(dict)"
      ],
      "metadata": {
        "id": "I46bugal3SOu",
        "outputId": "60d7f132-2e82-4629-a7d8-ec11a51566de",
        "colab": {
          "base_uri": "https://localhost:8080/"
        }
      },
      "execution_count": 32,
      "outputs": [
        {
          "output_type": "stream",
          "name": "stdout",
          "text": [
            "{'a': 1, 'b': 2}\n"
          ]
        }
      ]
    },
    {
      "cell_type": "code",
      "source": [
        "print(dict.keys())"
      ],
      "metadata": {
        "id": "Dg5PrFvT3Vhn",
        "outputId": "baf230c9-6475-451b-a1bc-c0cfa2206191",
        "colab": {
          "base_uri": "https://localhost:8080/"
        }
      },
      "execution_count": 33,
      "outputs": [
        {
          "output_type": "stream",
          "name": "stdout",
          "text": [
            "dict_keys(['a', 'b'])\n"
          ]
        }
      ]
    }
  ]
}