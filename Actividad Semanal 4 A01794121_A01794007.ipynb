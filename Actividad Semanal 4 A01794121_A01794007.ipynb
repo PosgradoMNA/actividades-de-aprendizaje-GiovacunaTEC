{
  "cells": [
    {
      "cell_type": "markdown",
      "metadata": {
        "id": "OCjpMp-Wp8Sp"
      },
      "source": [
        "<h1><b>Actividad Semanal 4</b><h1>\n",
        "<hr>\n"
      ]
    },
    {
      "cell_type": "markdown",
      "metadata": {
        "id": "RHhyr67nqIoH"
      },
      "source": [
        "Alumnos: \n",
        "\n",
        "*   Rojas Zepeda Luis Eduardo - A01794121 <br>\n",
        "*   Giovanni Acuña Morales - A01794007\n",
        "\n",
        "Profesor:\tJobish Vallikavungal Devassia \n",
        "\n",
        "Director: Orlando Figón Cruz\n",
        "\n",
        "<br>\n",
        "\n",
        "Datos:"
      ]
    },
    {
      "cell_type": "code",
      "execution_count": 1,
      "metadata": {
        "id": "wrVyfCSKqNUp"
      },
      "outputs": [],
      "source": [
        "import pandas as pd\n",
        "import numpy as np\n",
        "import seaborn as sns \n",
        "import matplotlib as mpl\n",
        "import matplotlib.pyplot as plt\n",
        "from sklearn import preprocessing\n",
        "from sklearn.decomposition import PCA\n",
        "from sklearn.preprocessing import StandardScaler"
      ]
    },
    {
      "cell_type": "markdown",
      "metadata": {
        "id": "i-ls_1vCrlmY"
      },
      "source": [
        "<hr>\n",
        "\n",
        "<h2><b> Parte 1: Ejercicio guiado </b></h2>\n",
        "\n",
        "<h3><b>Paso 1: </b></h3>\n",
        "\n",
        "Determine el número mínimo de componentes principales que representan la mayor parte de la variación en sus datos\n",
        "\n",
        "Utilice la proporción acumulada de la varianza que explican los componentes para determinar la cantidad de varianza que explican los componentes principales."
      ]
    },
    {
      "cell_type": "markdown",
      "metadata": {
        "id": "qLfeXuv8NBtc"
      },
      "source": [
        "<h3><b>Eliminación de columnas de categorias</b></h3>"
      ]
    },
    {
      "cell_type": "code",
      "execution_count": 2,
      "metadata": {
        "colab": {
          "base_uri": "https://localhost:8080/",
          "height": 0
        },
        "id": "SYmLcgxprQnL",
        "outputId": "1e428660-086c-414f-ed9e-dbbb7ba91297"
      },
      "outputs": [
        {
          "data": {
            "text/plain": [
              "Index(['X1', 'X10', 'X11', 'X12', 'X13', 'X14', 'X15', 'X16', 'X17', 'X18',\n",
              "       'X19', 'X20', 'X21', 'X22', 'X23'],\n",
              "      dtype='object')"
            ]
          },
          "execution_count": 2,
          "metadata": {},
          "output_type": "execute_result"
        }
      ],
      "source": [
        "url = 'https://raw.githubusercontent.com/PosgradoMNA/Actividades_Aprendizaje-/main/default%20of%20credit%20card%20clients.csv'\n",
        "# details: https://raw.githubusercontent.com/PosgradoMNA/Actividades_Aprendizaje-/main/dataset_info.txt\n",
        "\n",
        "df = pd.read_csv(url)\n",
        "df = df.drop(['ID', 'X2', 'X3', 'X4', 'X5', 'X6', 'X7', 'X8', 'X9', 'Y'], axis = 1)\n",
        "df.columns"
      ]
    },
    {
      "cell_type": "code",
      "execution_count": 3,
      "metadata": {
        "colab": {
          "base_uri": "https://localhost:8080/",
          "height": 0
        },
        "id": "XljYGguX6CGx",
        "outputId": "a7f94304-97f0-436a-9434-0497e9de4507"
      },
      "outputs": [
        {
          "data": {
            "text/plain": [
              "(30000, 15)"
            ]
          },
          "execution_count": 3,
          "metadata": {},
          "output_type": "execute_result"
        }
      ],
      "source": [
        "df.shape"
      ]
    },
    {
      "cell_type": "code",
      "execution_count": 4,
      "metadata": {
        "colab": {
          "base_uri": "https://localhost:8080/",
          "height": 0
        },
        "id": "UwnuzaRf_Fis",
        "outputId": "62460982-9850-4ac4-bc6f-7f4dd6838e93"
      },
      "outputs": [
        {
          "name": "stdout",
          "output_type": "stream",
          "text": [
            "Cantidad de columnas: 30000\n",
            "Cantidad de Registros : 15\n"
          ]
        }
      ],
      "source": [
        "print(f'Cantidad de columnas: {df.shape[0]}\\nCantidad de Registros : {df.shape[1]}')"
      ]
    },
    {
      "cell_type": "code",
      "execution_count": 5,
      "metadata": {
        "colab": {
          "base_uri": "https://localhost:8080/",
          "height": 0
        },
        "id": "wqruJp386KIb",
        "outputId": "af34322f-6ace-4c8a-9fed-0ff1224ad1f5"
      },
      "outputs": [
        {
          "name": "stdout",
          "output_type": "stream",
          "text": [
            "<class 'pandas.core.frame.DataFrame'>\n",
            "RangeIndex: 30000 entries, 0 to 29999\n",
            "Data columns (total 15 columns):\n",
            " #   Column  Non-Null Count  Dtype  \n",
            "---  ------  --------------  -----  \n",
            " 0   X1      30000 non-null  int64  \n",
            " 1   X10     29984 non-null  float64\n",
            " 2   X11     29986 non-null  float64\n",
            " 3   X12     29989 non-null  float64\n",
            " 4   X13     29989 non-null  float64\n",
            " 5   X14     29987 non-null  float64\n",
            " 6   X15     29985 non-null  float64\n",
            " 7   X16     29983 non-null  float64\n",
            " 8   X17     29990 non-null  float64\n",
            " 9   X18     29992 non-null  float64\n",
            " 10  X19     29991 non-null  float64\n",
            " 11  X20     29992 non-null  float64\n",
            " 12  X21     29989 non-null  float64\n",
            " 13  X22     29989 non-null  float64\n",
            " 14  X23     29995 non-null  float64\n",
            "dtypes: float64(14), int64(1)\n",
            "memory usage: 3.4 MB\n"
          ]
        }
      ],
      "source": [
        "df.info()"
      ]
    },
    {
      "cell_type": "markdown",
      "metadata": {
        "id": "9VuxG6745Qe9"
      },
      "source": [
        "<h3><b>Renombrar columnas</b></h3>"
      ]
    },
    {
      "cell_type": "code",
      "execution_count": 6,
      "metadata": {
        "colab": {
          "base_uri": "https://localhost:8080/",
          "height": 0
        },
        "id": "Kb67MDwR31wb",
        "outputId": "2a3f9eab-750a-403f-947b-7563a91874d5"
      },
      "outputs": [
        {
          "data": {
            "text/plain": [
              "Index(['Amount Credit', 'repayment March 2005', 'repayment April 2005',\n",
              "       'Bill September 2005', 'Bill August 2005', 'Bill July 2005',\n",
              "       'Bill June 2005', 'Bill May 2005', 'Bill April 2005',\n",
              "       'Pay September 2005', 'Pay August 2005', 'Pay July 2005',\n",
              "       'Pay June 2005', 'Pay May 2005', 'Pay April 2005'],\n",
              "      dtype='object')"
            ]
          },
          "execution_count": 6,
          "metadata": {},
          "output_type": "execute_result"
        }
      ],
      "source": [
        "df.rename(columns = {\n",
        "    'X1' : 'Amount Credit',\n",
        "    'X5' : 'Age',\n",
        "    'X10' : 'repayment March 2005',\n",
        "    'X11' : 'repayment April 2005',\n",
        "    'X12' : 'Bill September 2005',\n",
        "    'X13' : 'Bill August 2005',\n",
        "    'X14' : 'Bill July 2005',\n",
        "    'X15' : 'Bill June 2005',\n",
        "    'X16' : 'Bill May 2005',\n",
        "    'X17' : 'Bill April 2005',\n",
        "    'X18' : 'Pay September 2005',\n",
        "    'X19' : 'Pay August 2005',\n",
        "    'X20' : 'Pay July 2005',\n",
        "    'X21' : 'Pay June 2005',\n",
        "    'X22' : 'Pay May 2005',\n",
        "    'X23' : 'Pay April 2005'\n",
        "  },\n",
        "    inplace=True\n",
        "  )\n",
        "df.columns"
      ]
    },
    {
      "cell_type": "markdown",
      "metadata": {
        "id": "QgFjXG3tNUYq"
      },
      "source": [
        "<h3><b>Normalización</b></h3>"
      ]
    },
    {
      "cell_type": "markdown",
      "metadata": {
        "id": "BS6lgTqDQMbO"
      },
      "source": [
        "# Eliminar registros con campos nulos"
      ]
    },
    {
      "cell_type": "code",
      "execution_count": 7,
      "metadata": {
        "colab": {
          "base_uri": "https://localhost:8080/",
          "height": 485
        },
        "id": "wOREetglQIvi",
        "outputId": "5f92cef5-6b8c-49fd-8471-7ec7a4a41eb4"
      },
      "outputs": [
        {
          "data": {
            "text/html": [
              "\n",
              "  <div id=\"df-9619d780-c56c-4ccd-93fc-c60ec254a85d\">\n",
              "    <div class=\"colab-df-container\">\n",
              "      <div>\n",
              "<style scoped>\n",
              "    .dataframe tbody tr th:only-of-type {\n",
              "        vertical-align: middle;\n",
              "    }\n",
              "\n",
              "    .dataframe tbody tr th {\n",
              "        vertical-align: top;\n",
              "    }\n",
              "\n",
              "    .dataframe thead th {\n",
              "        text-align: right;\n",
              "    }\n",
              "</style>\n",
              "<table border=\"1\" class=\"dataframe\">\n",
              "  <thead>\n",
              "    <tr style=\"text-align: right;\">\n",
              "      <th></th>\n",
              "      <th>Amount Credit</th>\n",
              "      <th>repayment March 2005</th>\n",
              "      <th>repayment April 2005</th>\n",
              "      <th>Bill September 2005</th>\n",
              "      <th>Bill August 2005</th>\n",
              "      <th>Bill July 2005</th>\n",
              "      <th>Bill June 2005</th>\n",
              "      <th>Bill May 2005</th>\n",
              "      <th>Bill April 2005</th>\n",
              "      <th>Pay September 2005</th>\n",
              "      <th>Pay August 2005</th>\n",
              "      <th>Pay July 2005</th>\n",
              "      <th>Pay June 2005</th>\n",
              "      <th>Pay May 2005</th>\n",
              "      <th>Pay April 2005</th>\n",
              "    </tr>\n",
              "  </thead>\n",
              "  <tbody>\n",
              "    <tr>\n",
              "      <th>0</th>\n",
              "      <td>20000</td>\n",
              "      <td>-2.0</td>\n",
              "      <td>-2.0</td>\n",
              "      <td>3913.0</td>\n",
              "      <td>3102.0</td>\n",
              "      <td>689.0</td>\n",
              "      <td>0.0</td>\n",
              "      <td>0.0</td>\n",
              "      <td>0.0</td>\n",
              "      <td>0.0</td>\n",
              "      <td>689.0</td>\n",
              "      <td>0.0</td>\n",
              "      <td>0.0</td>\n",
              "      <td>0.0</td>\n",
              "      <td>0.0</td>\n",
              "    </tr>\n",
              "    <tr>\n",
              "      <th>1</th>\n",
              "      <td>120000</td>\n",
              "      <td>0.0</td>\n",
              "      <td>2.0</td>\n",
              "      <td>2682.0</td>\n",
              "      <td>1725.0</td>\n",
              "      <td>2682.0</td>\n",
              "      <td>3272.0</td>\n",
              "      <td>3455.0</td>\n",
              "      <td>3261.0</td>\n",
              "      <td>0.0</td>\n",
              "      <td>1000.0</td>\n",
              "      <td>1000.0</td>\n",
              "      <td>1000.0</td>\n",
              "      <td>0.0</td>\n",
              "      <td>2000.0</td>\n",
              "    </tr>\n",
              "    <tr>\n",
              "      <th>2</th>\n",
              "      <td>90000</td>\n",
              "      <td>0.0</td>\n",
              "      <td>0.0</td>\n",
              "      <td>29239.0</td>\n",
              "      <td>14027.0</td>\n",
              "      <td>13559.0</td>\n",
              "      <td>14331.0</td>\n",
              "      <td>14948.0</td>\n",
              "      <td>15549.0</td>\n",
              "      <td>1518.0</td>\n",
              "      <td>1500.0</td>\n",
              "      <td>1000.0</td>\n",
              "      <td>1000.0</td>\n",
              "      <td>1000.0</td>\n",
              "      <td>5000.0</td>\n",
              "    </tr>\n",
              "    <tr>\n",
              "      <th>3</th>\n",
              "      <td>50000</td>\n",
              "      <td>0.0</td>\n",
              "      <td>0.0</td>\n",
              "      <td>46990.0</td>\n",
              "      <td>48233.0</td>\n",
              "      <td>49291.0</td>\n",
              "      <td>28314.0</td>\n",
              "      <td>28959.0</td>\n",
              "      <td>29547.0</td>\n",
              "      <td>2000.0</td>\n",
              "      <td>2019.0</td>\n",
              "      <td>1200.0</td>\n",
              "      <td>1100.0</td>\n",
              "      <td>1069.0</td>\n",
              "      <td>1000.0</td>\n",
              "    </tr>\n",
              "    <tr>\n",
              "      <th>4</th>\n",
              "      <td>50000</td>\n",
              "      <td>0.0</td>\n",
              "      <td>0.0</td>\n",
              "      <td>8617.0</td>\n",
              "      <td>5670.0</td>\n",
              "      <td>35835.0</td>\n",
              "      <td>20940.0</td>\n",
              "      <td>19146.0</td>\n",
              "      <td>19131.0</td>\n",
              "      <td>2000.0</td>\n",
              "      <td>36681.0</td>\n",
              "      <td>10000.0</td>\n",
              "      <td>9000.0</td>\n",
              "      <td>689.0</td>\n",
              "      <td>679.0</td>\n",
              "    </tr>\n",
              "    <tr>\n",
              "      <th>...</th>\n",
              "      <td>...</td>\n",
              "      <td>...</td>\n",
              "      <td>...</td>\n",
              "      <td>...</td>\n",
              "      <td>...</td>\n",
              "      <td>...</td>\n",
              "      <td>...</td>\n",
              "      <td>...</td>\n",
              "      <td>...</td>\n",
              "      <td>...</td>\n",
              "      <td>...</td>\n",
              "      <td>...</td>\n",
              "      <td>...</td>\n",
              "      <td>...</td>\n",
              "      <td>...</td>\n",
              "    </tr>\n",
              "    <tr>\n",
              "      <th>29995</th>\n",
              "      <td>220000</td>\n",
              "      <td>0.0</td>\n",
              "      <td>0.0</td>\n",
              "      <td>188948.0</td>\n",
              "      <td>192815.0</td>\n",
              "      <td>208365.0</td>\n",
              "      <td>88004.0</td>\n",
              "      <td>31237.0</td>\n",
              "      <td>15980.0</td>\n",
              "      <td>8500.0</td>\n",
              "      <td>20000.0</td>\n",
              "      <td>5003.0</td>\n",
              "      <td>3047.0</td>\n",
              "      <td>5000.0</td>\n",
              "      <td>1000.0</td>\n",
              "    </tr>\n",
              "    <tr>\n",
              "      <th>29996</th>\n",
              "      <td>150000</td>\n",
              "      <td>0.0</td>\n",
              "      <td>0.0</td>\n",
              "      <td>1683.0</td>\n",
              "      <td>1828.0</td>\n",
              "      <td>3502.0</td>\n",
              "      <td>8979.0</td>\n",
              "      <td>5190.0</td>\n",
              "      <td>0.0</td>\n",
              "      <td>1837.0</td>\n",
              "      <td>3526.0</td>\n",
              "      <td>8998.0</td>\n",
              "      <td>129.0</td>\n",
              "      <td>0.0</td>\n",
              "      <td>0.0</td>\n",
              "    </tr>\n",
              "    <tr>\n",
              "      <th>29997</th>\n",
              "      <td>30000</td>\n",
              "      <td>0.0</td>\n",
              "      <td>0.0</td>\n",
              "      <td>3565.0</td>\n",
              "      <td>3356.0</td>\n",
              "      <td>2758.0</td>\n",
              "      <td>20878.0</td>\n",
              "      <td>20582.0</td>\n",
              "      <td>19357.0</td>\n",
              "      <td>0.0</td>\n",
              "      <td>0.0</td>\n",
              "      <td>22000.0</td>\n",
              "      <td>4200.0</td>\n",
              "      <td>2000.0</td>\n",
              "      <td>3100.0</td>\n",
              "    </tr>\n",
              "    <tr>\n",
              "      <th>29998</th>\n",
              "      <td>80000</td>\n",
              "      <td>0.0</td>\n",
              "      <td>-1.0</td>\n",
              "      <td>-1645.0</td>\n",
              "      <td>78379.0</td>\n",
              "      <td>76304.0</td>\n",
              "      <td>52774.0</td>\n",
              "      <td>11855.0</td>\n",
              "      <td>48944.0</td>\n",
              "      <td>85900.0</td>\n",
              "      <td>3409.0</td>\n",
              "      <td>1178.0</td>\n",
              "      <td>1926.0</td>\n",
              "      <td>52964.0</td>\n",
              "      <td>1804.0</td>\n",
              "    </tr>\n",
              "    <tr>\n",
              "      <th>29999</th>\n",
              "      <td>50000</td>\n",
              "      <td>0.0</td>\n",
              "      <td>0.0</td>\n",
              "      <td>47929.0</td>\n",
              "      <td>48905.0</td>\n",
              "      <td>49764.0</td>\n",
              "      <td>36535.0</td>\n",
              "      <td>32428.0</td>\n",
              "      <td>15313.0</td>\n",
              "      <td>2078.0</td>\n",
              "      <td>1800.0</td>\n",
              "      <td>1430.0</td>\n",
              "      <td>1000.0</td>\n",
              "      <td>1000.0</td>\n",
              "      <td>1000.0</td>\n",
              "    </tr>\n",
              "  </tbody>\n",
              "</table>\n",
              "<p>29966 rows × 15 columns</p>\n",
              "</div>\n",
              "      <button class=\"colab-df-convert\" onclick=\"convertToInteractive('df-9619d780-c56c-4ccd-93fc-c60ec254a85d')\"\n",
              "              title=\"Convert this dataframe to an interactive table.\"\n",
              "              style=\"display:none;\">\n",
              "        \n",
              "  <svg xmlns=\"http://www.w3.org/2000/svg\" height=\"24px\"viewBox=\"0 0 24 24\"\n",
              "       width=\"24px\">\n",
              "    <path d=\"M0 0h24v24H0V0z\" fill=\"none\"/>\n",
              "    <path d=\"M18.56 5.44l.94 2.06.94-2.06 2.06-.94-2.06-.94-.94-2.06-.94 2.06-2.06.94zm-11 1L8.5 8.5l.94-2.06 2.06-.94-2.06-.94L8.5 2.5l-.94 2.06-2.06.94zm10 10l.94 2.06.94-2.06 2.06-.94-2.06-.94-.94-2.06-.94 2.06-2.06.94z\"/><path d=\"M17.41 7.96l-1.37-1.37c-.4-.4-.92-.59-1.43-.59-.52 0-1.04.2-1.43.59L10.3 9.45l-7.72 7.72c-.78.78-.78 2.05 0 2.83L4 21.41c.39.39.9.59 1.41.59.51 0 1.02-.2 1.41-.59l7.78-7.78 2.81-2.81c.8-.78.8-2.07 0-2.86zM5.41 20L4 18.59l7.72-7.72 1.47 1.35L5.41 20z\"/>\n",
              "  </svg>\n",
              "      </button>\n",
              "      \n",
              "  <style>\n",
              "    .colab-df-container {\n",
              "      display:flex;\n",
              "      flex-wrap:wrap;\n",
              "      gap: 12px;\n",
              "    }\n",
              "\n",
              "    .colab-df-convert {\n",
              "      background-color: #E8F0FE;\n",
              "      border: none;\n",
              "      border-radius: 50%;\n",
              "      cursor: pointer;\n",
              "      display: none;\n",
              "      fill: #1967D2;\n",
              "      height: 32px;\n",
              "      padding: 0 0 0 0;\n",
              "      width: 32px;\n",
              "    }\n",
              "\n",
              "    .colab-df-convert:hover {\n",
              "      background-color: #E2EBFA;\n",
              "      box-shadow: 0px 1px 2px rgba(60, 64, 67, 0.3), 0px 1px 3px 1px rgba(60, 64, 67, 0.15);\n",
              "      fill: #174EA6;\n",
              "    }\n",
              "\n",
              "    [theme=dark] .colab-df-convert {\n",
              "      background-color: #3B4455;\n",
              "      fill: #D2E3FC;\n",
              "    }\n",
              "\n",
              "    [theme=dark] .colab-df-convert:hover {\n",
              "      background-color: #434B5C;\n",
              "      box-shadow: 0px 1px 3px 1px rgba(0, 0, 0, 0.15);\n",
              "      filter: drop-shadow(0px 1px 2px rgba(0, 0, 0, 0.3));\n",
              "      fill: #FFFFFF;\n",
              "    }\n",
              "  </style>\n",
              "\n",
              "      <script>\n",
              "        const buttonEl =\n",
              "          document.querySelector('#df-9619d780-c56c-4ccd-93fc-c60ec254a85d button.colab-df-convert');\n",
              "        buttonEl.style.display =\n",
              "          google.colab.kernel.accessAllowed ? 'block' : 'none';\n",
              "\n",
              "        async function convertToInteractive(key) {\n",
              "          const element = document.querySelector('#df-9619d780-c56c-4ccd-93fc-c60ec254a85d');\n",
              "          const dataTable =\n",
              "            await google.colab.kernel.invokeFunction('convertToInteractive',\n",
              "                                                     [key], {});\n",
              "          if (!dataTable) return;\n",
              "\n",
              "          const docLinkHtml = 'Like what you see? Visit the ' +\n",
              "            '<a target=\"_blank\" href=https://colab.research.google.com/notebooks/data_table.ipynb>data table notebook</a>'\n",
              "            + ' to learn more about interactive tables.';\n",
              "          element.innerHTML = '';\n",
              "          dataTable['output_type'] = 'display_data';\n",
              "          await google.colab.output.renderOutput(dataTable, element);\n",
              "          const docLink = document.createElement('div');\n",
              "          docLink.innerHTML = docLinkHtml;\n",
              "          element.appendChild(docLink);\n",
              "        }\n",
              "      </script>\n",
              "    </div>\n",
              "  </div>\n",
              "  "
            ],
            "text/plain": [
              "       Amount Credit  repayment March 2005  repayment April 2005  \\\n",
              "0              20000                  -2.0                  -2.0   \n",
              "1             120000                   0.0                   2.0   \n",
              "2              90000                   0.0                   0.0   \n",
              "3              50000                   0.0                   0.0   \n",
              "4              50000                   0.0                   0.0   \n",
              "...              ...                   ...                   ...   \n",
              "29995         220000                   0.0                   0.0   \n",
              "29996         150000                   0.0                   0.0   \n",
              "29997          30000                   0.0                   0.0   \n",
              "29998          80000                   0.0                  -1.0   \n",
              "29999          50000                   0.0                   0.0   \n",
              "\n",
              "       Bill September 2005  Bill August 2005  Bill July 2005  Bill June 2005  \\\n",
              "0                   3913.0            3102.0           689.0             0.0   \n",
              "1                   2682.0            1725.0          2682.0          3272.0   \n",
              "2                  29239.0           14027.0         13559.0         14331.0   \n",
              "3                  46990.0           48233.0         49291.0         28314.0   \n",
              "4                   8617.0            5670.0         35835.0         20940.0   \n",
              "...                    ...               ...             ...             ...   \n",
              "29995             188948.0          192815.0        208365.0         88004.0   \n",
              "29996               1683.0            1828.0          3502.0          8979.0   \n",
              "29997               3565.0            3356.0          2758.0         20878.0   \n",
              "29998              -1645.0           78379.0         76304.0         52774.0   \n",
              "29999              47929.0           48905.0         49764.0         36535.0   \n",
              "\n",
              "       Bill May 2005  Bill April 2005  Pay September 2005  Pay August 2005  \\\n",
              "0                0.0              0.0                 0.0            689.0   \n",
              "1             3455.0           3261.0                 0.0           1000.0   \n",
              "2            14948.0          15549.0              1518.0           1500.0   \n",
              "3            28959.0          29547.0              2000.0           2019.0   \n",
              "4            19146.0          19131.0              2000.0          36681.0   \n",
              "...              ...              ...                 ...              ...   \n",
              "29995        31237.0          15980.0              8500.0          20000.0   \n",
              "29996         5190.0              0.0              1837.0           3526.0   \n",
              "29997        20582.0          19357.0                 0.0              0.0   \n",
              "29998        11855.0          48944.0             85900.0           3409.0   \n",
              "29999        32428.0          15313.0              2078.0           1800.0   \n",
              "\n",
              "       Pay July 2005  Pay June 2005  Pay May 2005  Pay April 2005  \n",
              "0                0.0            0.0           0.0             0.0  \n",
              "1             1000.0         1000.0           0.0          2000.0  \n",
              "2             1000.0         1000.0        1000.0          5000.0  \n",
              "3             1200.0         1100.0        1069.0          1000.0  \n",
              "4            10000.0         9000.0         689.0           679.0  \n",
              "...              ...            ...           ...             ...  \n",
              "29995         5003.0         3047.0        5000.0          1000.0  \n",
              "29996         8998.0          129.0           0.0             0.0  \n",
              "29997        22000.0         4200.0        2000.0          3100.0  \n",
              "29998         1178.0         1926.0       52964.0          1804.0  \n",
              "29999         1430.0         1000.0        1000.0          1000.0  \n",
              "\n",
              "[29966 rows x 15 columns]"
            ]
          },
          "execution_count": 7,
          "metadata": {},
          "output_type": "execute_result"
        }
      ],
      "source": [
        "df.dropna()"
      ]
    },
    {
      "cell_type": "markdown",
      "metadata": {
        "id": "6W8ZKwX6BANF"
      },
      "source": [
        "# Correlación de variables"
      ]
    },
    {
      "cell_type": "code",
      "execution_count": 8,
      "metadata": {
        "colab": {
          "base_uri": "https://localhost:8080/",
          "height": 0
        },
        "id": "7HRyZVUKCjVv",
        "outputId": "5f795149-7d90-4a96-e0c0-ce09a6cf5402"
      },
      "outputs": [
        {
          "name": "stdout",
          "output_type": "stream",
          "text": [
            "<class 'pandas.core.frame.DataFrame'>\n",
            "RangeIndex: 30000 entries, 0 to 29999\n",
            "Data columns (total 15 columns):\n",
            " #   Column                Non-Null Count  Dtype  \n",
            "---  ------                --------------  -----  \n",
            " 0   Amount Credit         30000 non-null  int64  \n",
            " 1   repayment March 2005  29984 non-null  float64\n",
            " 2   repayment April 2005  29986 non-null  float64\n",
            " 3   Bill September 2005   29989 non-null  float64\n",
            " 4   Bill August 2005      29989 non-null  float64\n",
            " 5   Bill July 2005        29987 non-null  float64\n",
            " 6   Bill June 2005        29985 non-null  float64\n",
            " 7   Bill May 2005         29983 non-null  float64\n",
            " 8   Bill April 2005       29990 non-null  float64\n",
            " 9   Pay September 2005    29992 non-null  float64\n",
            " 10  Pay August 2005       29991 non-null  float64\n",
            " 11  Pay July 2005         29992 non-null  float64\n",
            " 12  Pay June 2005         29989 non-null  float64\n",
            " 13  Pay May 2005          29989 non-null  float64\n",
            " 14  Pay April 2005        29995 non-null  float64\n",
            "dtypes: float64(14), int64(1)\n",
            "memory usage: 3.4 MB\n"
          ]
        }
      ],
      "source": [
        "df.info()"
      ]
    },
    {
      "cell_type": "code",
      "execution_count": 9,
      "metadata": {
        "colab": {
          "base_uri": "https://localhost:8080/",
          "height": 734
        },
        "id": "_aqaD4rGAPSf",
        "outputId": "54b9d3af-0d1d-41ac-a6de-6e1b6e095e83"
      },
      "outputs": [
        {
          "data": {
            "text/plain": [
              "<matplotlib.axes._subplots.AxesSubplot at 0x7f67dc1b6b50>"
            ]
          },
          "execution_count": 9,
          "metadata": {},
          "output_type": "execute_result"
        },
        {
          "data": {
            "image/png": "[encoded data removed]",
            "text/plain": [
              "<Figure size 720x720 with 2 Axes>"
            ]
          },
          "metadata": {},
          "output_type": "display_data"
        }
      ],
      "source": [
        "corr = df.corr()\n",
        "sns.set(rc = {'figure.figsize': (10,10)})\n",
        "sns.heatmap(corr.round(2), vmin = -1, vmax = 1, cmap = 'YlGnBu', annot = True)"
      ]
    },
    {
      "cell_type": "markdown",
      "metadata": {
        "id": "W20mJISp6k_s"
      },
      "source": [
        "# Generación de PCA"
      ]
    },
    {
      "cell_type": "code",
      "execution_count": 10,
      "metadata": {
        "colab": {
          "base_uri": "https://localhost:8080/",
          "height": 143
        },
        "id": "JFMXfPfq9ln_",
        "outputId": "c1d52a4e-674e-41ed-9d9c-5b4d6a73e711"
      },
      "outputs": [
        {
          "data": {
            "text/html": [
              "\n",
              "  <div id=\"df-e4ab5bd8-8f89-4e25-a5be-a5aa75d6ebc3\">\n",
              "    <div class=\"colab-df-container\">\n",
              "      <div>\n",
              "<style scoped>\n",
              "    .dataframe tbody tr th:only-of-type {\n",
              "        vertical-align: middle;\n",
              "    }\n",
              "\n",
              "    .dataframe tbody tr th {\n",
              "        vertical-align: top;\n",
              "    }\n",
              "\n",
              "    .dataframe thead th {\n",
              "        text-align: right;\n",
              "    }\n",
              "</style>\n",
              "<table border=\"1\" class=\"dataframe\">\n",
              "  <thead>\n",
              "    <tr style=\"text-align: right;\">\n",
              "      <th></th>\n",
              "      <th>PC1</th>\n",
              "      <th>PC2</th>\n",
              "      <th>PC3</th>\n",
              "      <th>PC4</th>\n",
              "      <th>PC5</th>\n",
              "      <th>PC6</th>\n",
              "      <th>PC7</th>\n",
              "      <th>PC8</th>\n",
              "      <th>PC9</th>\n",
              "      <th>PC10</th>\n",
              "      <th>PC11</th>\n",
              "      <th>PC12</th>\n",
              "      <th>PC13</th>\n",
              "      <th>PC14</th>\n",
              "      <th>PC15</th>\n",
              "    </tr>\n",
              "  </thead>\n",
              "  <tbody>\n",
              "    <tr>\n",
              "      <th>Standard deviation</th>\n",
              "      <td>2.4592</td>\n",
              "      <td>1.4709</td>\n",
              "      <td>1.1822</td>\n",
              "      <td>0.9514</td>\n",
              "      <td>0.9404</td>\n",
              "      <td>0.9346</td>\n",
              "      <td>0.8841</td>\n",
              "      <td>0.8523</td>\n",
              "      <td>0.7907</td>\n",
              "      <td>0.5071</td>\n",
              "      <td>0.4221</td>\n",
              "      <td>0.2657</td>\n",
              "      <td>0.2025</td>\n",
              "      <td>0.1592</td>\n",
              "      <td>0.1524</td>\n",
              "    </tr>\n",
              "    <tr>\n",
              "      <th>Proportion of variance</th>\n",
              "      <td>0.4032</td>\n",
              "      <td>0.1442</td>\n",
              "      <td>0.0932</td>\n",
              "      <td>0.0603</td>\n",
              "      <td>0.0590</td>\n",
              "      <td>0.0582</td>\n",
              "      <td>0.0521</td>\n",
              "      <td>0.0484</td>\n",
              "      <td>0.0417</td>\n",
              "      <td>0.0171</td>\n",
              "      <td>0.0119</td>\n",
              "      <td>0.0047</td>\n",
              "      <td>0.0027</td>\n",
              "      <td>0.0017</td>\n",
              "      <td>0.0015</td>\n",
              "    </tr>\n",
              "    <tr>\n",
              "      <th>Cumulative proportion</th>\n",
              "      <td>0.4032</td>\n",
              "      <td>0.5474</td>\n",
              "      <td>0.6406</td>\n",
              "      <td>0.7009</td>\n",
              "      <td>0.7599</td>\n",
              "      <td>0.8181</td>\n",
              "      <td>0.8702</td>\n",
              "      <td>0.9186</td>\n",
              "      <td>0.9603</td>\n",
              "      <td>0.9774</td>\n",
              "      <td>0.9893</td>\n",
              "      <td>0.9940</td>\n",
              "      <td>0.9968</td>\n",
              "      <td>0.9985</td>\n",
              "      <td>1.0000</td>\n",
              "    </tr>\n",
              "  </tbody>\n",
              "</table>\n",
              "</div>\n",
              "      <button class=\"colab-df-convert\" onclick=\"convertToInteractive('df-e4ab5bd8-8f89-4e25-a5be-a5aa75d6ebc3')\"\n",
              "              title=\"Convert this dataframe to an interactive table.\"\n",
              "              style=\"display:none;\">\n",
              "        \n",
              "  <svg xmlns=\"http://www.w3.org/2000/svg\" height=\"24px\"viewBox=\"0 0 24 24\"\n",
              "       width=\"24px\">\n",
              "    <path d=\"M0 0h24v24H0V0z\" fill=\"none\"/>\n",
              "    <path d=\"M18.56 5.44l.94 2.06.94-2.06 2.06-.94-2.06-.94-.94-2.06-.94 2.06-2.06.94zm-11 1L8.5 8.5l.94-2.06 2.06-.94-2.06-.94L8.5 2.5l-.94 2.06-2.06.94zm10 10l.94 2.06.94-2.06 2.06-.94-2.06-.94-.94-2.06-.94 2.06-2.06.94z\"/><path d=\"M17.41 7.96l-1.37-1.37c-.4-.4-.92-.59-1.43-.59-.52 0-1.04.2-1.43.59L10.3 9.45l-7.72 7.72c-.78.78-.78 2.05 0 2.83L4 21.41c.39.39.9.59 1.41.59.51 0 1.02-.2 1.41-.59l7.78-7.78 2.81-2.81c.8-.78.8-2.07 0-2.86zM5.41 20L4 18.59l7.72-7.72 1.47 1.35L5.41 20z\"/>\n",
              "  </svg>\n",
              "      </button>\n",
              "      \n",
              "  <style>\n",
              "    .colab-df-container {\n",
              "      display:flex;\n",
              "      flex-wrap:wrap;\n",
              "      gap: 12px;\n",
              "    }\n",
              "\n",
              "    .colab-df-convert {\n",
              "      background-color: #E8F0FE;\n",
              "      border: none;\n",
              "      border-radius: 50%;\n",
              "      cursor: pointer;\n",
              "      display: none;\n",
              "      fill: #1967D2;\n",
              "      height: 32px;\n",
              "      padding: 0 0 0 0;\n",
              "      width: 32px;\n",
              "    }\n",
              "\n",
              "    .colab-df-convert:hover {\n",
              "      background-color: #E2EBFA;\n",
              "      box-shadow: 0px 1px 2px rgba(60, 64, 67, 0.3), 0px 1px 3px 1px rgba(60, 64, 67, 0.15);\n",
              "      fill: #174EA6;\n",
              "    }\n",
              "\n",
              "    [theme=dark] .colab-df-convert {\n",
              "      background-color: #3B4455;\n",
              "      fill: #D2E3FC;\n",
              "    }\n",
              "\n",
              "    [theme=dark] .colab-df-convert:hover {\n",
              "      background-color: #434B5C;\n",
              "      box-shadow: 0px 1px 3px 1px rgba(0, 0, 0, 0.15);\n",
              "      filter: drop-shadow(0px 1px 2px rgba(0, 0, 0, 0.3));\n",
              "      fill: #FFFFFF;\n",
              "    }\n",
              "  </style>\n",
              "\n",
              "      <script>\n",
              "        const buttonEl =\n",
              "          document.querySelector('#df-e4ab5bd8-8f89-4e25-a5be-a5aa75d6ebc3 button.colab-df-convert');\n",
              "        buttonEl.style.display =\n",
              "          google.colab.kernel.accessAllowed ? 'block' : 'none';\n",
              "\n",
              "        async function convertToInteractive(key) {\n",
              "          const element = document.querySelector('#df-e4ab5bd8-8f89-4e25-a5be-a5aa75d6ebc3');\n",
              "          const dataTable =\n",
              "            await google.colab.kernel.invokeFunction('convertToInteractive',\n",
              "                                                     [key], {});\n",
              "          if (!dataTable) return;\n",
              "\n",
              "          const docLinkHtml = 'Like what you see? Visit the ' +\n",
              "            '<a target=\"_blank\" href=https://colab.research.google.com/notebooks/data_table.ipynb>data table notebook</a>'\n",
              "            + ' to learn more about interactive tables.';\n",
              "          element.innerHTML = '';\n",
              "          dataTable['output_type'] = 'display_data';\n",
              "          await google.colab.output.renderOutput(dataTable, element);\n",
              "          const docLink = document.createElement('div');\n",
              "          docLink.innerHTML = docLinkHtml;\n",
              "          element.appendChild(docLink);\n",
              "        }\n",
              "      </script>\n",
              "    </div>\n",
              "  </div>\n",
              "  "
            ],
            "text/plain": [
              "                           PC1     PC2     PC3     PC4     PC5     PC6  \\\n",
              "Standard deviation      2.4592  1.4709  1.1822  0.9514  0.9404  0.9346   \n",
              "Proportion of variance  0.4032  0.1442  0.0932  0.0603  0.0590  0.0582   \n",
              "Cumulative proportion   0.4032  0.5474  0.6406  0.7009  0.7599  0.8181   \n",
              "\n",
              "                           PC7     PC8     PC9    PC10    PC11    PC12  \\\n",
              "Standard deviation      0.8841  0.8523  0.7907  0.5071  0.4221  0.2657   \n",
              "Proportion of variance  0.0521  0.0484  0.0417  0.0171  0.0119  0.0047   \n",
              "Cumulative proportion   0.8702  0.9186  0.9603  0.9774  0.9893  0.9940   \n",
              "\n",
              "                          PC13    PC14    PC15  \n",
              "Standard deviation      0.2025  0.1592  0.1524  \n",
              "Proportion of variance  0.0027  0.0017  0.0015  \n",
              "Cumulative proportion   0.9968  0.9985  1.0000  "
            ]
          },
          "execution_count": 10,
          "metadata": {},
          "output_type": "execute_result"
        }
      ],
      "source": [
        "pcs = PCA()\n",
        "pcs.fit(preprocessing.scale(df.iloc[:,:].dropna(axis = 0)))\n",
        "pcsSummary_df = pd.DataFrame({'Standard deviation': np.sqrt(pcs.explained_variance_),\n",
        "                          'Proportion of variance': pcs.explained_variance_ratio_,\n",
        "                          'Cumulative proportion': np.cumsum(pcs.explained_variance_ratio_)\n",
        "                              })\n",
        "pcsSummary_df = pcsSummary_df.transpose()\n",
        "pcsSummary_df.columns = ['PC{}'.format(i) for i in range(1, len(pcsSummary_df.columns) + 1)]\n",
        "pcsSummary_df.round(4)\n"
      ]
    },
    {
      "cell_type": "markdown",
      "metadata": {
        "id": "4lI-mI3uCCmZ"
      },
      "source": [
        "Se puede determinar que los componentes principales estaría dentro de la variación del 80% y también se evidencia componentes o varibles que llegan al 87% de variación"
      ]
    },
    {
      "cell_type": "markdown",
      "metadata": {
        "id": "8GWwVf9MDYYV"
      },
      "source": [
        "# Paso #2 : Interprete cada componente principal en términos de las variables originales.\n",
        "\n",
        "Interprete cada componente principal en términos de las variables originales.\n",
        "\n",
        "Examine la magnitud y la dirección de los coeficientes de las variables originales. Nota: Cuanto mayor sea el valor absoluto del coeficiente, más importante será la variable correspondiente en el cálculo del componente."
      ]
    },
    {
      "cell_type": "markdown",
      "metadata": {
        "id": "p1zC1b53D9E_"
      },
      "source": [
        "Primero vamos a comparar los componentes con las variables originales para identificar cuales aportan un mayor peso."
      ]
    },
    {
      "cell_type": "code",
      "execution_count": 11,
      "metadata": {
        "colab": {
          "base_uri": "https://localhost:8080/",
          "height": 520
        },
        "id": "ZcCsIxGSD8bj",
        "outputId": "954b0b22-1ee3-4800-8dff-b5eb16861701"
      },
      "outputs": [
        {
          "data": {
            "text/html": [
              "\n",
              "  <div id=\"df-d9639aa1-eba2-4feb-95c4-6259d4a268c0\">\n",
              "    <div class=\"colab-df-container\">\n",
              "      <div>\n",
              "<style scoped>\n",
              "    .dataframe tbody tr th:only-of-type {\n",
              "        vertical-align: middle;\n",
              "    }\n",
              "\n",
              "    .dataframe tbody tr th {\n",
              "        vertical-align: top;\n",
              "    }\n",
              "\n",
              "    .dataframe thead th {\n",
              "        text-align: right;\n",
              "    }\n",
              "</style>\n",
              "<table border=\"1\" class=\"dataframe\">\n",
              "  <thead>\n",
              "    <tr style=\"text-align: right;\">\n",
              "      <th></th>\n",
              "      <th>PC1</th>\n",
              "      <th>PC2</th>\n",
              "      <th>PC3</th>\n",
              "      <th>PC4</th>\n",
              "      <th>PC5</th>\n",
              "      <th>PC6</th>\n",
              "      <th>PC7</th>\n",
              "    </tr>\n",
              "  </thead>\n",
              "  <tbody>\n",
              "    <tr>\n",
              "      <th>Amount Credit</th>\n",
              "      <td>0.145694</td>\n",
              "      <td>0.396176</td>\n",
              "      <td>0.123938</td>\n",
              "      <td>0.101006</td>\n",
              "      <td>0.005640</td>\n",
              "      <td>0.078368</td>\n",
              "      <td>0.115409</td>\n",
              "    </tr>\n",
              "    <tr>\n",
              "      <th>repayment March 2005</th>\n",
              "      <td>0.122791</td>\n",
              "      <td>0.507785</td>\n",
              "      <td>0.387417</td>\n",
              "      <td>0.102439</td>\n",
              "      <td>0.074210</td>\n",
              "      <td>0.009216</td>\n",
              "      <td>0.048355</td>\n",
              "    </tr>\n",
              "    <tr>\n",
              "      <th>repayment April 2005</th>\n",
              "      <td>0.126663</td>\n",
              "      <td>0.498481</td>\n",
              "      <td>0.399300</td>\n",
              "      <td>0.115577</td>\n",
              "      <td>0.008006</td>\n",
              "      <td>0.060428</td>\n",
              "      <td>0.012627</td>\n",
              "    </tr>\n",
              "    <tr>\n",
              "      <th>Bill September 2005</th>\n",
              "      <td>0.367929</td>\n",
              "      <td>0.045317</td>\n",
              "      <td>0.217884</td>\n",
              "      <td>0.020235</td>\n",
              "      <td>0.029688</td>\n",
              "      <td>0.048903</td>\n",
              "      <td>0.003858</td>\n",
              "    </tr>\n",
              "    <tr>\n",
              "      <th>Bill August 2005</th>\n",
              "      <td>0.379193</td>\n",
              "      <td>0.045664</td>\n",
              "      <td>0.183374</td>\n",
              "      <td>0.057928</td>\n",
              "      <td>0.060248</td>\n",
              "      <td>0.036399</td>\n",
              "      <td>0.038796</td>\n",
              "    </tr>\n",
              "    <tr>\n",
              "      <th>Bill July 2005</th>\n",
              "      <td>0.384547</td>\n",
              "      <td>0.031091</td>\n",
              "      <td>0.117169</td>\n",
              "      <td>0.100662</td>\n",
              "      <td>0.113995</td>\n",
              "      <td>0.081794</td>\n",
              "      <td>0.127751</td>\n",
              "    </tr>\n",
              "    <tr>\n",
              "      <th>Bill June 2005</th>\n",
              "      <td>0.388878</td>\n",
              "      <td>0.041448</td>\n",
              "      <td>0.091376</td>\n",
              "      <td>0.091784</td>\n",
              "      <td>0.016061</td>\n",
              "      <td>0.020275</td>\n",
              "      <td>0.122966</td>\n",
              "    </tr>\n",
              "    <tr>\n",
              "      <th>Bill May 2005</th>\n",
              "      <td>0.386375</td>\n",
              "      <td>0.040909</td>\n",
              "      <td>0.069679</td>\n",
              "      <td>0.029438</td>\n",
              "      <td>0.134368</td>\n",
              "      <td>0.064544</td>\n",
              "      <td>0.007096</td>\n",
              "    </tr>\n",
              "    <tr>\n",
              "      <th>Bill April 2005</th>\n",
              "      <td>0.378473</td>\n",
              "      <td>0.032993</td>\n",
              "      <td>0.067261</td>\n",
              "      <td>0.105832</td>\n",
              "      <td>0.125664</td>\n",
              "      <td>0.098421</td>\n",
              "      <td>0.007744</td>\n",
              "    </tr>\n",
              "    <tr>\n",
              "      <th>Pay September 2005</th>\n",
              "      <td>0.128396</td>\n",
              "      <td>0.239696</td>\n",
              "      <td>0.346621</td>\n",
              "      <td>0.402967</td>\n",
              "      <td>0.158437</td>\n",
              "      <td>0.026637</td>\n",
              "      <td>0.212586</td>\n",
              "    </tr>\n",
              "    <tr>\n",
              "      <th>Pay August 2005</th>\n",
              "      <td>0.110714</td>\n",
              "      <td>0.239560</td>\n",
              "      <td>0.395112</td>\n",
              "      <td>0.332051</td>\n",
              "      <td>0.186233</td>\n",
              "      <td>0.388449</td>\n",
              "      <td>0.285378</td>\n",
              "    </tr>\n",
              "    <tr>\n",
              "      <th>Pay July 2005</th>\n",
              "      <td>0.122080</td>\n",
              "      <td>0.232139</td>\n",
              "      <td>0.370014</td>\n",
              "      <td>0.161020</td>\n",
              "      <td>0.271877</td>\n",
              "      <td>0.027498</td>\n",
              "      <td>0.789903</td>\n",
              "    </tr>\n",
              "    <tr>\n",
              "      <th>Pay June 2005</th>\n",
              "      <td>0.110231</td>\n",
              "      <td>0.230994</td>\n",
              "      <td>0.279302</td>\n",
              "      <td>0.209821</td>\n",
              "      <td>0.650868</td>\n",
              "      <td>0.367141</td>\n",
              "      <td>0.446329</td>\n",
              "    </tr>\n",
              "    <tr>\n",
              "      <th>Pay May 2005</th>\n",
              "      <td>0.106222</td>\n",
              "      <td>0.231426</td>\n",
              "      <td>0.167257</td>\n",
              "      <td>0.716260</td>\n",
              "      <td>0.093951</td>\n",
              "      <td>0.549807</td>\n",
              "      <td>0.015797</td>\n",
              "    </tr>\n",
              "    <tr>\n",
              "      <th>Pay April 2005</th>\n",
              "      <td>0.098911</td>\n",
              "      <td>0.226898</td>\n",
              "      <td>0.208316</td>\n",
              "      <td>0.275565</td>\n",
              "      <td>0.613701</td>\n",
              "      <td>0.613199</td>\n",
              "      <td>0.032736</td>\n",
              "    </tr>\n",
              "  </tbody>\n",
              "</table>\n",
              "</div>\n",
              "      <button class=\"colab-df-convert\" onclick=\"convertToInteractive('df-d9639aa1-eba2-4feb-95c4-6259d4a268c0')\"\n",
              "              title=\"Convert this dataframe to an interactive table.\"\n",
              "              style=\"display:none;\">\n",
              "        \n",
              "  <svg xmlns=\"http://www.w3.org/2000/svg\" height=\"24px\"viewBox=\"0 0 24 24\"\n",
              "       width=\"24px\">\n",
              "    <path d=\"M0 0h24v24H0V0z\" fill=\"none\"/>\n",
              "    <path d=\"M18.56 5.44l.94 2.06.94-2.06 2.06-.94-2.06-.94-.94-2.06-.94 2.06-2.06.94zm-11 1L8.5 8.5l.94-2.06 2.06-.94-2.06-.94L8.5 2.5l-.94 2.06-2.06.94zm10 10l.94 2.06.94-2.06 2.06-.94-2.06-.94-.94-2.06-.94 2.06-2.06.94z\"/><path d=\"M17.41 7.96l-1.37-1.37c-.4-.4-.92-.59-1.43-.59-.52 0-1.04.2-1.43.59L10.3 9.45l-7.72 7.72c-.78.78-.78 2.05 0 2.83L4 21.41c.39.39.9.59 1.41.59.51 0 1.02-.2 1.41-.59l7.78-7.78 2.81-2.81c.8-.78.8-2.07 0-2.86zM5.41 20L4 18.59l7.72-7.72 1.47 1.35L5.41 20z\"/>\n",
              "  </svg>\n",
              "      </button>\n",
              "      \n",
              "  <style>\n",
              "    .colab-df-container {\n",
              "      display:flex;\n",
              "      flex-wrap:wrap;\n",
              "      gap: 12px;\n",
              "    }\n",
              "\n",
              "    .colab-df-convert {\n",
              "      background-color: #E8F0FE;\n",
              "      border: none;\n",
              "      border-radius: 50%;\n",
              "      cursor: pointer;\n",
              "      display: none;\n",
              "      fill: #1967D2;\n",
              "      height: 32px;\n",
              "      padding: 0 0 0 0;\n",
              "      width: 32px;\n",
              "    }\n",
              "\n",
              "    .colab-df-convert:hover {\n",
              "      background-color: #E2EBFA;\n",
              "      box-shadow: 0px 1px 2px rgba(60, 64, 67, 0.3), 0px 1px 3px 1px rgba(60, 64, 67, 0.15);\n",
              "      fill: #174EA6;\n",
              "    }\n",
              "\n",
              "    [theme=dark] .colab-df-convert {\n",
              "      background-color: #3B4455;\n",
              "      fill: #D2E3FC;\n",
              "    }\n",
              "\n",
              "    [theme=dark] .colab-df-convert:hover {\n",
              "      background-color: #434B5C;\n",
              "      box-shadow: 0px 1px 3px 1px rgba(0, 0, 0, 0.15);\n",
              "      filter: drop-shadow(0px 1px 2px rgba(0, 0, 0, 0.3));\n",
              "      fill: #FFFFFF;\n",
              "    }\n",
              "  </style>\n",
              "\n",
              "      <script>\n",
              "        const buttonEl =\n",
              "          document.querySelector('#df-d9639aa1-eba2-4feb-95c4-6259d4a268c0 button.colab-df-convert');\n",
              "        buttonEl.style.display =\n",
              "          google.colab.kernel.accessAllowed ? 'block' : 'none';\n",
              "\n",
              "        async function convertToInteractive(key) {\n",
              "          const element = document.querySelector('#df-d9639aa1-eba2-4feb-95c4-6259d4a268c0');\n",
              "          const dataTable =\n",
              "            await google.colab.kernel.invokeFunction('convertToInteractive',\n",
              "                                                     [key], {});\n",
              "          if (!dataTable) return;\n",
              "\n",
              "          const docLinkHtml = 'Like what you see? Visit the ' +\n",
              "            '<a target=\"_blank\" href=https://colab.research.google.com/notebooks/data_table.ipynb>data table notebook</a>'\n",
              "            + ' to learn more about interactive tables.';\n",
              "          element.innerHTML = '';\n",
              "          dataTable['output_type'] = 'display_data';\n",
              "          await google.colab.output.renderOutput(dataTable, element);\n",
              "          const docLink = document.createElement('div');\n",
              "          docLink.innerHTML = docLinkHtml;\n",
              "          element.appendChild(docLink);\n",
              "        }\n",
              "      </script>\n",
              "    </div>\n",
              "  </div>\n",
              "  "
            ],
            "text/plain": [
              "                           PC1       PC2       PC3       PC4       PC5  \\\n",
              "Amount Credit         0.145694  0.396176  0.123938  0.101006  0.005640   \n",
              "repayment March 2005  0.122791  0.507785  0.387417  0.102439  0.074210   \n",
              "repayment April 2005  0.126663  0.498481  0.399300  0.115577  0.008006   \n",
              "Bill September 2005   0.367929  0.045317  0.217884  0.020235  0.029688   \n",
              "Bill August 2005      0.379193  0.045664  0.183374  0.057928  0.060248   \n",
              "Bill July 2005        0.384547  0.031091  0.117169  0.100662  0.113995   \n",
              "Bill June 2005        0.388878  0.041448  0.091376  0.091784  0.016061   \n",
              "Bill May 2005         0.386375  0.040909  0.069679  0.029438  0.134368   \n",
              "Bill April 2005       0.378473  0.032993  0.067261  0.105832  0.125664   \n",
              "Pay September 2005    0.128396  0.239696  0.346621  0.402967  0.158437   \n",
              "Pay August 2005       0.110714  0.239560  0.395112  0.332051  0.186233   \n",
              "Pay July 2005         0.122080  0.232139  0.370014  0.161020  0.271877   \n",
              "Pay June 2005         0.110231  0.230994  0.279302  0.209821  0.650868   \n",
              "Pay May 2005          0.106222  0.231426  0.167257  0.716260  0.093951   \n",
              "Pay April 2005        0.098911  0.226898  0.208316  0.275565  0.613701   \n",
              "\n",
              "                           PC6       PC7  \n",
              "Amount Credit         0.078368  0.115409  \n",
              "repayment March 2005  0.009216  0.048355  \n",
              "repayment April 2005  0.060428  0.012627  \n",
              "Bill September 2005   0.048903  0.003858  \n",
              "Bill August 2005      0.036399  0.038796  \n",
              "Bill July 2005        0.081794  0.127751  \n",
              "Bill June 2005        0.020275  0.122966  \n",
              "Bill May 2005         0.064544  0.007096  \n",
              "Bill April 2005       0.098421  0.007744  \n",
              "Pay September 2005    0.026637  0.212586  \n",
              "Pay August 2005       0.388449  0.285378  \n",
              "Pay July 2005         0.027498  0.789903  \n",
              "Pay June 2005         0.367141  0.446329  \n",
              "Pay May 2005          0.549807  0.015797  \n",
              "Pay April 2005        0.613199  0.032736  "
            ]
          },
          "execution_count": 11,
          "metadata": {},
          "output_type": "execute_result"
        }
      ],
      "source": [
        "pcsComponents = pd.DataFrame(pcs.components_.transpose(),\n",
        "                             columns = pcsSummary_df.columns,\n",
        "                             index = df.columns).abs()\n",
        "pcsComponents = pcsComponents.iloc[:,:7]\n",
        "pcsComponents"
      ]
    },
    {
      "cell_type": "markdown",
      "metadata": {
        "id": "E2p9NGwaE0wi"
      },
      "source": [
        "Ahora obtendremos el valor máximo y mínimio en cada componente o columna."
      ]
    },
    {
      "cell_type": "code",
      "execution_count": 12,
      "metadata": {
        "colab": {
          "base_uri": "https://localhost:8080/",
          "height": 0
        },
        "id": "NB8Y01iKE0fS",
        "outputId": "5dae47e3-4fe5-4dc3-d6af-576ea6f657ef"
      },
      "outputs": [
        {
          "data": {
            "text/plain": [
              "PC1          Bill June 2005\n",
              "PC2    repayment March 2005\n",
              "PC3    repayment April 2005\n",
              "PC4            Pay May 2005\n",
              "PC5           Pay June 2005\n",
              "PC6          Pay April 2005\n",
              "PC7           Pay July 2005\n",
              "dtype: object"
            ]
          },
          "execution_count": 12,
          "metadata": {},
          "output_type": "execute_result"
        }
      ],
      "source": [
        "pcsComponents.abs().idxmax()"
      ]
    },
    {
      "cell_type": "code",
      "execution_count": 13,
      "metadata": {
        "colab": {
          "base_uri": "https://localhost:8080/",
          "height": 0
        },
        "id": "D7W8t75fGh6W",
        "outputId": "3cdb53ba-1722-406c-f889-05f88845df16"
      },
      "outputs": [
        {
          "data": {
            "text/plain": [
              "PC1          Pay April 2005\n",
              "PC2          Bill July 2005\n",
              "PC3         Bill April 2005\n",
              "PC4     Bill September 2005\n",
              "PC5           Amount Credit\n",
              "PC6    repayment March 2005\n",
              "PC7     Bill September 2005\n",
              "dtype: object"
            ]
          },
          "execution_count": 13,
          "metadata": {},
          "output_type": "execute_result"
        }
      ],
      "source": [
        "pcsComponents.abs().idxmin()"
      ]
    },
    {
      "cell_type": "markdown",
      "metadata": {
        "id": "vYrxV5M0FKbd"
      },
      "source": [
        "#Paso 3: Identifique valores atípicos\n",
        "\n",
        "Realice alguna gráfica de valores atípicos o boxplot para identificar los valores atípicos. Cualquier punto que esté más alejado de la línea de referencia es un valor atípico."
      ]
    },
    {
      "cell_type": "code",
      "execution_count": 14,
      "metadata": {
        "colab": {
          "base_uri": "https://localhost:8080/",
          "height": 388
        },
        "id": "ZgQSZudrFiUn",
        "outputId": "538a4521-564e-471f-be70-c34a6f98a57a"
      },
      "outputs": [
        {
          "data": {
            "image/png": "[encoded data removed]",
            "text/plain": [
              "<Figure size 2160x432 with 1 Axes>"
            ]
          },
          "metadata": {},
          "output_type": "display_data"
        }
      ],
      "source": [
        "df_valores_Atipicos = df.copy()\n",
        "plt.figure(figsize = (30, 6))\n",
        "sns.boxplot(data = df_valores_Atipicos, width = 0.8)\n",
        "plt.show()"
      ]
    },
    {
      "cell_type": "markdown",
      "metadata": {
        "id": "A51o56WXspYY"
      },
      "source": [
        "<hr>\n",
        "\n",
        "<h2><b>Parte 2:</b></h2> \n",
        "\n",
        "Responde las siguientes preguntas en una celda de texto en Jupyter Notebook\n",
        "\n",
        "1.   ¿Cuál es el número de componentes mínimo y por qué?<br>\n",
        "\n",
        "    Creemos que el componente mínimo es \"Pay April 2005\", debido que en la función abs().idxmin(), nos lo indica\n",
        "\n",
        "2.   ¿Cuál es la variación de los datos que representan esos componentes?<br>\n",
        "\n",
        "    La gráfica del punto 1 se evidencia que ronda el 80% - 90 %.\n",
        "\n",
        "3. ¿Cuál es la pérdida de información después de realizar PCA?<br>\n",
        "    La perdida de información está alrededor del 5 - 10%, esto debido al momento de la normalización se perdieron datos por tener registros vácios o nulos.\n",
        "4. De las variables originales, ¿Cuál tiene mayor y cuál tiene menor importancia en los componentes principales?<br>\n",
        "    Los componentes con mayor importancia son las que indican los pagos entre los más destacables esta: \"Bill June 2005\"\n",
        "    y la de menor importancia es \"Pay April 2005\", esto debido a que su variance es muy bajo.\n",
        "5. ¿Cuándo se recomienda realizar un PCA y qué beneficios ofrece para Machine Learning?<br>\n",
        "    Se recomienda el uso de PCA para reducir la dimensionalidad de un dataset con el fin de simplificar el pintado o diseño de una grafica.\n",
        "\n"
      ]
    }
  ],
  "metadata": {
    "colab": {
      "collapsed_sections": [],
      "provenance": []
    },
    "kernelspec": {
      "display_name": "Python 3",
      "name": "python3"
    },
    "language_info": {
      "name": "python"
    }
  },
  "nbformat": 4,
  "nbformat_minor": 0
}
