{
  "nbformat": 4,
  "nbformat_minor": 0,
  "metadata": {
    "colab": {
      "provenance": [],
      "collapsed_sections": []
    },
    "kernelspec": {
      "name": "python3",
      "display_name": "Python 3"
    },
    "language_info": {
      "name": "python"
    }
  },
  "cells": [
    {
      "cell_type": "markdown",
      "source": [
        "# **Semana 3 - Actividad 1**\n",
        "\n",
        "**Presentado por Giovanni Acuña Morales**"
      ],
      "metadata": {
        "id": "vlOBqy3AmDn6"
      }
    },
    {
      "cell_type": "markdown",
      "source": [
        "**Limpieza de datos**"
      ],
      "metadata": {
        "id": "Fx3X3TvmmRIa"
      }
    },
    {
      "cell_type": "markdown",
      "source": [
        "Primero importamos la librería que usarmos para la extración y limpieza de datos"
      ],
      "metadata": {
        "id": "3yr0DGN2mXdz"
      }
    },
    {
      "cell_type": "code",
      "source": [
        "import pandas as pd\n",
        "import numpy as np\n",
        "import requests"
      ],
      "metadata": {
        "id": "l52zK9PEm_Ww"
      },
      "execution_count": null,
      "outputs": []
    },
    {
      "cell_type": "markdown",
      "source": [
        "Posteriormente hacemos una petición HTTP para optener la información de la URL: \"https://raw.githubusercontent.com/PosgradoMNA/Actividades_Aprendizaje-/main/default%20of%20credit%20card%20clients.csv\""
      ],
      "metadata": {
        "id": "eyQuwk92nLD7"
      }
    },
    {
      "cell_type": "code",
      "source": [
        "url = \"https://raw.githubusercontent.com/PosgradoMNA/Actividades_Aprendizaje-/main/default%20of%20credit%20card%20clients.csv\"\n",
        "response = requests.get(url)\n",
        "open(\"data_base.csv\", \"wb\").write(response.content)"
      ],
      "metadata": {
        "colab": {
          "base_uri": "https://localhost:8080/",
          "height": 0
        },
        "id": "x5ojw-83nXU2",
        "outputId": "55b01336-3d78-4642-c683-60c6c54d9053"
      },
      "execution_count": 32,
      "outputs": [
        {
          "output_type": "execute_result",
          "data": {
            "text/plain": [
              "2896514"
            ]
          },
          "metadata": {},
          "execution_count": 32
        }
      ]
    },
    {
      "cell_type": "markdown",
      "source": [
        "Comprobamos la base de datos en el dataframe"
      ],
      "metadata": {
        "id": "QN3NevwbqKDY"
      }
    },
    {
      "cell_type": "code",
      "source": [
        "df = pd.read_csv('data_base.csv')\n",
        "print(df)"
      ],
      "metadata": {
        "colab": {
          "base_uri": "https://localhost:8080/",
          "height": 0
        },
        "id": "sxpZJyDgqN-P",
        "outputId": "43741c08-c179-4e83-d9e8-52714c57c5bb"
      },
      "execution_count": 33,
      "outputs": [
        {
          "output_type": "stream",
          "name": "stdout",
          "text": [
            "          ID      X1   X2   X3   X4    X5   X6   X7   X8   X9  ...      X15  \\\n",
            "0          1   20000  2.0  2.0  1.0  24.0  2.0  2.0 -1.0 -1.0  ...      0.0   \n",
            "1          2  120000  2.0  2.0  2.0  26.0 -1.0  2.0  0.0  0.0  ...   3272.0   \n",
            "2          3   90000  2.0  2.0  2.0  34.0  0.0  0.0  0.0  0.0  ...  14331.0   \n",
            "3          4   50000  2.0  2.0  1.0  37.0  0.0  0.0  0.0  0.0  ...  28314.0   \n",
            "4          5   50000  1.0  2.0  1.0  57.0 -1.0  0.0 -1.0  0.0  ...  20940.0   \n",
            "...      ...     ...  ...  ...  ...   ...  ...  ...  ...  ...  ...      ...   \n",
            "29995  29996  220000  1.0  3.0  1.0  39.0  0.0  0.0  0.0  0.0  ...  88004.0   \n",
            "29996  29997  150000  1.0  3.0  2.0  43.0 -1.0 -1.0 -1.0 -1.0  ...   8979.0   \n",
            "29997  29998   30000  1.0  2.0  2.0  37.0  4.0  3.0  2.0 -1.0  ...  20878.0   \n",
            "29998  29999   80000  1.0  3.0  1.0  41.0  1.0 -1.0  0.0  0.0  ...  52774.0   \n",
            "29999  30000   50000  1.0  2.0  1.0  46.0  0.0  0.0  0.0  0.0  ...  36535.0   \n",
            "\n",
            "           X16      X17      X18      X19      X20     X21      X22     X23  \\\n",
            "0          0.0      0.0      0.0    689.0      0.0     0.0      0.0     0.0   \n",
            "1       3455.0   3261.0      0.0   1000.0   1000.0  1000.0      0.0  2000.0   \n",
            "2      14948.0  15549.0   1518.0   1500.0   1000.0  1000.0   1000.0  5000.0   \n",
            "3      28959.0  29547.0   2000.0   2019.0   1200.0  1100.0   1069.0  1000.0   \n",
            "4      19146.0  19131.0   2000.0  36681.0  10000.0  9000.0    689.0   679.0   \n",
            "...        ...      ...      ...      ...      ...     ...      ...     ...   \n",
            "29995  31237.0  15980.0   8500.0  20000.0   5003.0  3047.0   5000.0  1000.0   \n",
            "29996   5190.0      0.0   1837.0   3526.0   8998.0   129.0      0.0     0.0   \n",
            "29997  20582.0  19357.0      0.0      0.0  22000.0  4200.0   2000.0  3100.0   \n",
            "29998  11855.0  48944.0  85900.0   3409.0   1178.0  1926.0  52964.0  1804.0   \n",
            "29999  32428.0  15313.0   2078.0   1800.0   1430.0  1000.0   1000.0  1000.0   \n",
            "\n",
            "         Y  \n",
            "0      1.0  \n",
            "1      1.0  \n",
            "2      0.0  \n",
            "3      0.0  \n",
            "4      0.0  \n",
            "...    ...  \n",
            "29995  0.0  \n",
            "29996  0.0  \n",
            "29997  1.0  \n",
            "29998  1.0  \n",
            "29999  1.0  \n",
            "\n",
            "[30000 rows x 25 columns]\n"
          ]
        }
      ]
    },
    {
      "cell_type": "markdown",
      "source": [
        "Posteriormente procedemos a realizar una revisión de la data en cada columna y existe las opciones de obtener el mínimo, máximo, cantidades, promedios. ETC"
      ],
      "metadata": {
        "id": "X5yZ1P_czdJt"
      }
    },
    {
      "cell_type": "code",
      "source": [
        "for column in df.columns:\n",
        "  print(f'Datos de la columna {column}')\n",
        "  print(f'valor mínimo: {df[column].min()}')\n",
        "  print(f'Valor Máximo: {df[column].max()}')\n",
        "  print(f'Valor Promedio: {df[column].std()}')\n",
        "  print(f'Cantidad de registos: {df[column].count()}')\n",
        "  print(f'\\n')"
      ],
      "metadata": {
        "colab": {
          "base_uri": "https://localhost:8080/",
          "height": 0
        },
        "id": "yr2RnSrmzxGu",
        "outputId": "7da4b634-8600-4e20-9fa9-f5b10c873b15"
      },
      "execution_count": 48,
      "outputs": [
        {
          "output_type": "stream",
          "name": "stdout",
          "text": [
            "Datos de la columna ID\n",
            "valor mínimo: 1\n",
            "Valor Máximo: 30000\n",
            "Valor Promedio: 8654.547473418781\n",
            "Cantidad de registos: 29958\n",
            "\n",
            "\n",
            "Datos de la columna X1\n",
            "valor mínimo: 10000\n",
            "Valor Máximo: 1000000\n",
            "Valor Promedio: 129737.29908775157\n",
            "Cantidad de registos: 29958\n",
            "\n",
            "\n",
            "Datos de la columna X2\n",
            "valor mínimo: 1.0\n",
            "Valor Máximo: 2.0\n",
            "Valor Promedio: 0.4890699632610518\n",
            "Cantidad de registos: 29958\n",
            "\n",
            "\n",
            "Datos de la columna X3\n",
            "valor mínimo: 0.0\n",
            "Valor Máximo: 6.0\n",
            "Valor Promedio: 0.7904710931047395\n",
            "Cantidad de registos: 29958\n",
            "\n",
            "\n",
            "Datos de la columna X4\n",
            "valor mínimo: 0.0\n",
            "Valor Máximo: 3.0\n",
            "Valor Promedio: 0.5219520748580883\n",
            "Cantidad de registos: 29958\n",
            "\n",
            "\n",
            "Datos de la columna X5\n",
            "valor mínimo: 21.0\n",
            "Valor Máximo: 79.0\n",
            "Valor Promedio: 9.214318831480954\n",
            "Cantidad de registos: 29958\n",
            "\n",
            "\n",
            "Datos de la columna X6\n",
            "valor mínimo: -2.0\n",
            "Valor Máximo: 8.0\n",
            "Valor Promedio: 1.123989019937333\n",
            "Cantidad de registos: 29958\n",
            "\n",
            "\n",
            "Datos de la columna X7\n",
            "valor mínimo: -2.0\n",
            "Valor Máximo: 8.0\n",
            "Valor Promedio: 1.1971707508472194\n",
            "Cantidad de registos: 29958\n",
            "\n",
            "\n",
            "Datos de la columna X8\n",
            "valor mínimo: -2.0\n",
            "Valor Máximo: 8.0\n",
            "Valor Promedio: 1.1960259695070918\n",
            "Cantidad de registos: 29958\n",
            "\n",
            "\n",
            "Datos de la columna X9\n",
            "valor mínimo: -2.0\n",
            "Valor Máximo: 8.0\n",
            "Valor Promedio: 1.1684187894265148\n",
            "Cantidad de registos: 29958\n",
            "\n",
            "\n",
            "Datos de la columna X10\n",
            "valor mínimo: -2.0\n",
            "Valor Máximo: 8.0\n",
            "Valor Promedio: 1.1323065518958788\n",
            "Cantidad de registos: 29958\n",
            "\n",
            "\n",
            "Datos de la columna X11\n",
            "valor mínimo: -2.0\n",
            "Valor Máximo: 8.0\n",
            "Valor Promedio: 1.149302571748401\n",
            "Cantidad de registos: 29958\n",
            "\n",
            "\n",
            "Datos de la columna X12\n",
            "valor mínimo: -165580.0\n",
            "Valor Máximo: 964511.0\n",
            "Valor Promedio: 73674.94994346624\n",
            "Cantidad de registos: 29958\n",
            "\n",
            "\n",
            "Datos de la columna X13\n",
            "valor mínimo: -69777.0\n",
            "Valor Máximo: 983931.0\n",
            "Valor Promedio: 71211.23274360197\n",
            "Cantidad de registos: 29958\n",
            "\n",
            "\n",
            "Datos de la columna X14\n",
            "valor mínimo: -157264.0\n",
            "Valor Máximo: 1664089.0\n",
            "Valor Promedio: 69385.2433396312\n",
            "Cantidad de registos: 29958\n",
            "\n",
            "\n",
            "Datos de la columna X15\n",
            "valor mínimo: -170000.0\n",
            "Valor Máximo: 891586.0\n",
            "Valor Promedio: 64364.684346522336\n",
            "Cantidad de registos: 29958\n",
            "\n",
            "\n",
            "Datos de la columna X16\n",
            "valor mínimo: -81334.0\n",
            "Valor Máximo: 927171.0\n",
            "Valor Promedio: 60826.21932573589\n",
            "Cantidad de registos: 29958\n",
            "\n",
            "\n",
            "Datos de la columna X17\n",
            "valor mínimo: -339603.0\n",
            "Valor Máximo: 961664.0\n",
            "Valor Promedio: 59582.88330148046\n",
            "Cantidad de registos: 29958\n",
            "\n",
            "\n",
            "Datos de la columna X18\n",
            "valor mínimo: 0.0\n",
            "Valor Máximo: 873552.0\n",
            "Valor Promedio: 16568.823518422338\n",
            "Cantidad de registos: 29958\n",
            "\n",
            "\n",
            "Datos de la columna X19\n",
            "valor mínimo: 0.0\n",
            "Valor Máximo: 1684259.0\n",
            "Valor Promedio: 23055.98386352156\n",
            "Cantidad de registos: 29958\n",
            "\n",
            "\n",
            "Datos de la columna X20\n",
            "valor mínimo: 0.0\n",
            "Valor Máximo: 896040.0\n",
            "Valor Promedio: 17617.338167058184\n",
            "Cantidad de registos: 29958\n",
            "\n",
            "\n",
            "Datos de la columna X21\n",
            "valor mínimo: 0.0\n",
            "Valor Máximo: 621000.0\n",
            "Valor Promedio: 15676.205513926268\n",
            "Cantidad de registos: 29958\n",
            "\n",
            "\n",
            "Datos de la columna X22\n",
            "valor mínimo: 0.0\n",
            "Valor Máximo: 426529.0\n",
            "Valor Promedio: 15285.552652021965\n",
            "Cantidad de registos: 29958\n",
            "\n",
            "\n",
            "Datos de la columna X23\n",
            "valor mínimo: 0.0\n",
            "Valor Máximo: 528666.0\n",
            "Valor Promedio: 17788.98376732679\n",
            "Cantidad de registos: 29958\n",
            "\n",
            "\n",
            "Datos de la columna Y\n",
            "valor mínimo: 0.0\n",
            "Valor Máximo: 1.0\n",
            "Valor Promedio: 0.41502347639843895\n",
            "Cantidad de registos: 29958\n",
            "\n",
            "\n"
          ]
        }
      ]
    },
    {
      "cell_type": "markdown",
      "source": [
        "Verificamos si alguna columna tiene campos nulos o vácios"
      ],
      "metadata": {
        "id": "KsMiKoxWqu2M"
      }
    },
    {
      "cell_type": "code",
      "source": [
        "df.isnull().values.any()"
      ],
      "metadata": {
        "colab": {
          "base_uri": "https://localhost:8080/",
          "height": 0
        },
        "id": "25kSkpbbqzEx",
        "outputId": "a56fc69b-1e25-487f-da32-a4b5bdb0c842"
      },
      "execution_count": 34,
      "outputs": [
        {
          "output_type": "execute_result",
          "data": {
            "text/plain": [
              "True"
            ]
          },
          "metadata": {},
          "execution_count": 34
        }
      ]
    },
    {
      "cell_type": "markdown",
      "source": [
        "Se puede eliminar los registros o filas que tengas datos nullos o vácios"
      ],
      "metadata": {
        "id": "SOZM2k3Bq7sP"
      }
    },
    {
      "cell_type": "code",
      "source": [
        "df.dropna(inplace = True)\n",
        "print(df)"
      ],
      "metadata": {
        "colab": {
          "base_uri": "https://localhost:8080/",
          "height": 0
        },
        "id": "1DoqjKcysPMg",
        "outputId": "21655926-8dee-4989-a2c2-a9f0e6e0d95b"
      },
      "execution_count": 35,
      "outputs": [
        {
          "output_type": "stream",
          "name": "stdout",
          "text": [
            "          ID      X1   X2   X3   X4    X5   X6   X7   X8   X9  ...      X15  \\\n",
            "0          1   20000  2.0  2.0  1.0  24.0  2.0  2.0 -1.0 -1.0  ...      0.0   \n",
            "1          2  120000  2.0  2.0  2.0  26.0 -1.0  2.0  0.0  0.0  ...   3272.0   \n",
            "2          3   90000  2.0  2.0  2.0  34.0  0.0  0.0  0.0  0.0  ...  14331.0   \n",
            "3          4   50000  2.0  2.0  1.0  37.0  0.0  0.0  0.0  0.0  ...  28314.0   \n",
            "4          5   50000  1.0  2.0  1.0  57.0 -1.0  0.0 -1.0  0.0  ...  20940.0   \n",
            "...      ...     ...  ...  ...  ...   ...  ...  ...  ...  ...  ...      ...   \n",
            "29995  29996  220000  1.0  3.0  1.0  39.0  0.0  0.0  0.0  0.0  ...  88004.0   \n",
            "29996  29997  150000  1.0  3.0  2.0  43.0 -1.0 -1.0 -1.0 -1.0  ...   8979.0   \n",
            "29997  29998   30000  1.0  2.0  2.0  37.0  4.0  3.0  2.0 -1.0  ...  20878.0   \n",
            "29998  29999   80000  1.0  3.0  1.0  41.0  1.0 -1.0  0.0  0.0  ...  52774.0   \n",
            "29999  30000   50000  1.0  2.0  1.0  46.0  0.0  0.0  0.0  0.0  ...  36535.0   \n",
            "\n",
            "           X16      X17      X18      X19      X20     X21      X22     X23  \\\n",
            "0          0.0      0.0      0.0    689.0      0.0     0.0      0.0     0.0   \n",
            "1       3455.0   3261.0      0.0   1000.0   1000.0  1000.0      0.0  2000.0   \n",
            "2      14948.0  15549.0   1518.0   1500.0   1000.0  1000.0   1000.0  5000.0   \n",
            "3      28959.0  29547.0   2000.0   2019.0   1200.0  1100.0   1069.0  1000.0   \n",
            "4      19146.0  19131.0   2000.0  36681.0  10000.0  9000.0    689.0   679.0   \n",
            "...        ...      ...      ...      ...      ...     ...      ...     ...   \n",
            "29995  31237.0  15980.0   8500.0  20000.0   5003.0  3047.0   5000.0  1000.0   \n",
            "29996   5190.0      0.0   1837.0   3526.0   8998.0   129.0      0.0     0.0   \n",
            "29997  20582.0  19357.0      0.0      0.0  22000.0  4200.0   2000.0  3100.0   \n",
            "29998  11855.0  48944.0  85900.0   3409.0   1178.0  1926.0  52964.0  1804.0   \n",
            "29999  32428.0  15313.0   2078.0   1800.0   1430.0  1000.0   1000.0  1000.0   \n",
            "\n",
            "         Y  \n",
            "0      1.0  \n",
            "1      1.0  \n",
            "2      0.0  \n",
            "3      0.0  \n",
            "4      0.0  \n",
            "...    ...  \n",
            "29995  0.0  \n",
            "29996  0.0  \n",
            "29997  1.0  \n",
            "29998  1.0  \n",
            "29999  1.0  \n",
            "\n",
            "[29958 rows x 25 columns]\n"
          ]
        }
      ]
    },
    {
      "cell_type": "markdown",
      "source": [
        "Con esto si falta algún dato en todo el conjunto de datos, la fila correspondiente se elimina."
      ],
      "metadata": {
        "id": "239xeB6Os5aZ"
      }
    },
    {
      "cell_type": "markdown",
      "source": [
        "Posteriomente eliminaremos la columna que el falte al menos un elemento."
      ],
      "metadata": {
        "id": "V5K96fPZtAUI"
      }
    },
    {
      "cell_type": "code",
      "source": [
        "df.dropna(axis = 1, inplace = True) # axis 1 is columns / axis 0 is rows. \n",
        "print(df)"
      ],
      "metadata": {
        "colab": {
          "base_uri": "https://localhost:8080/",
          "height": 0
        },
        "id": "BLX4WEyVtKdq",
        "outputId": "bc756d6d-dea1-44f4-8dd8-3f10483d9d86"
      },
      "execution_count": 36,
      "outputs": [
        {
          "output_type": "stream",
          "name": "stdout",
          "text": [
            "          ID      X1   X2   X3   X4    X5   X6   X7   X8   X9  ...      X15  \\\n",
            "0          1   20000  2.0  2.0  1.0  24.0  2.0  2.0 -1.0 -1.0  ...      0.0   \n",
            "1          2  120000  2.0  2.0  2.0  26.0 -1.0  2.0  0.0  0.0  ...   3272.0   \n",
            "2          3   90000  2.0  2.0  2.0  34.0  0.0  0.0  0.0  0.0  ...  14331.0   \n",
            "3          4   50000  2.0  2.0  1.0  37.0  0.0  0.0  0.0  0.0  ...  28314.0   \n",
            "4          5   50000  1.0  2.0  1.0  57.0 -1.0  0.0 -1.0  0.0  ...  20940.0   \n",
            "...      ...     ...  ...  ...  ...   ...  ...  ...  ...  ...  ...      ...   \n",
            "29995  29996  220000  1.0  3.0  1.0  39.0  0.0  0.0  0.0  0.0  ...  88004.0   \n",
            "29996  29997  150000  1.0  3.0  2.0  43.0 -1.0 -1.0 -1.0 -1.0  ...   8979.0   \n",
            "29997  29998   30000  1.0  2.0  2.0  37.0  4.0  3.0  2.0 -1.0  ...  20878.0   \n",
            "29998  29999   80000  1.0  3.0  1.0  41.0  1.0 -1.0  0.0  0.0  ...  52774.0   \n",
            "29999  30000   50000  1.0  2.0  1.0  46.0  0.0  0.0  0.0  0.0  ...  36535.0   \n",
            "\n",
            "           X16      X17      X18      X19      X20     X21      X22     X23  \\\n",
            "0          0.0      0.0      0.0    689.0      0.0     0.0      0.0     0.0   \n",
            "1       3455.0   3261.0      0.0   1000.0   1000.0  1000.0      0.0  2000.0   \n",
            "2      14948.0  15549.0   1518.0   1500.0   1000.0  1000.0   1000.0  5000.0   \n",
            "3      28959.0  29547.0   2000.0   2019.0   1200.0  1100.0   1069.0  1000.0   \n",
            "4      19146.0  19131.0   2000.0  36681.0  10000.0  9000.0    689.0   679.0   \n",
            "...        ...      ...      ...      ...      ...     ...      ...     ...   \n",
            "29995  31237.0  15980.0   8500.0  20000.0   5003.0  3047.0   5000.0  1000.0   \n",
            "29996   5190.0      0.0   1837.0   3526.0   8998.0   129.0      0.0     0.0   \n",
            "29997  20582.0  19357.0      0.0      0.0  22000.0  4200.0   2000.0  3100.0   \n",
            "29998  11855.0  48944.0  85900.0   3409.0   1178.0  1926.0  52964.0  1804.0   \n",
            "29999  32428.0  15313.0   2078.0   1800.0   1430.0  1000.0   1000.0  1000.0   \n",
            "\n",
            "         Y  \n",
            "0      1.0  \n",
            "1      1.0  \n",
            "2      0.0  \n",
            "3      0.0  \n",
            "4      0.0  \n",
            "...    ...  \n",
            "29995  0.0  \n",
            "29996  0.0  \n",
            "29997  1.0  \n",
            "29998  1.0  \n",
            "29999  1.0  \n",
            "\n",
            "[29958 rows x 25 columns]\n"
          ]
        }
      ]
    },
    {
      "cell_type": "markdown",
      "source": [
        "Adicionalmente usamos Threshold.\n",
        "\n",
        "Que mantendrá solo las filas con al menos 2 valores que **NO SEAN** nullo o vácios"
      ],
      "metadata": {
        "id": "JOwR4Mbes3Fd"
      }
    },
    {
      "cell_type": "code",
      "source": [
        "df.dropna(how='all', inplace = True)\n",
        "print(df)"
      ],
      "metadata": {
        "colab": {
          "base_uri": "https://localhost:8080/",
          "height": 0
        },
        "id": "6fKxDUW3tjG3",
        "outputId": "766475e4-77fc-49ae-f4a0-a70ad8f2c63b"
      },
      "execution_count": 37,
      "outputs": [
        {
          "output_type": "stream",
          "name": "stdout",
          "text": [
            "          ID      X1   X2   X3   X4    X5   X6   X7   X8   X9  ...      X15  \\\n",
            "0          1   20000  2.0  2.0  1.0  24.0  2.0  2.0 -1.0 -1.0  ...      0.0   \n",
            "1          2  120000  2.0  2.0  2.0  26.0 -1.0  2.0  0.0  0.0  ...   3272.0   \n",
            "2          3   90000  2.0  2.0  2.0  34.0  0.0  0.0  0.0  0.0  ...  14331.0   \n",
            "3          4   50000  2.0  2.0  1.0  37.0  0.0  0.0  0.0  0.0  ...  28314.0   \n",
            "4          5   50000  1.0  2.0  1.0  57.0 -1.0  0.0 -1.0  0.0  ...  20940.0   \n",
            "...      ...     ...  ...  ...  ...   ...  ...  ...  ...  ...  ...      ...   \n",
            "29995  29996  220000  1.0  3.0  1.0  39.0  0.0  0.0  0.0  0.0  ...  88004.0   \n",
            "29996  29997  150000  1.0  3.0  2.0  43.0 -1.0 -1.0 -1.0 -1.0  ...   8979.0   \n",
            "29997  29998   30000  1.0  2.0  2.0  37.0  4.0  3.0  2.0 -1.0  ...  20878.0   \n",
            "29998  29999   80000  1.0  3.0  1.0  41.0  1.0 -1.0  0.0  0.0  ...  52774.0   \n",
            "29999  30000   50000  1.0  2.0  1.0  46.0  0.0  0.0  0.0  0.0  ...  36535.0   \n",
            "\n",
            "           X16      X17      X18      X19      X20     X21      X22     X23  \\\n",
            "0          0.0      0.0      0.0    689.0      0.0     0.0      0.0     0.0   \n",
            "1       3455.0   3261.0      0.0   1000.0   1000.0  1000.0      0.0  2000.0   \n",
            "2      14948.0  15549.0   1518.0   1500.0   1000.0  1000.0   1000.0  5000.0   \n",
            "3      28959.0  29547.0   2000.0   2019.0   1200.0  1100.0   1069.0  1000.0   \n",
            "4      19146.0  19131.0   2000.0  36681.0  10000.0  9000.0    689.0   679.0   \n",
            "...        ...      ...      ...      ...      ...     ...      ...     ...   \n",
            "29995  31237.0  15980.0   8500.0  20000.0   5003.0  3047.0   5000.0  1000.0   \n",
            "29996   5190.0      0.0   1837.0   3526.0   8998.0   129.0      0.0     0.0   \n",
            "29997  20582.0  19357.0      0.0      0.0  22000.0  4200.0   2000.0  3100.0   \n",
            "29998  11855.0  48944.0  85900.0   3409.0   1178.0  1926.0  52964.0  1804.0   \n",
            "29999  32428.0  15313.0   2078.0   1800.0   1430.0  1000.0   1000.0  1000.0   \n",
            "\n",
            "         Y  \n",
            "0      1.0  \n",
            "1      1.0  \n",
            "2      0.0  \n",
            "3      0.0  \n",
            "4      0.0  \n",
            "...    ...  \n",
            "29995  0.0  \n",
            "29996  0.0  \n",
            "29997  1.0  \n",
            "29998  1.0  \n",
            "29999  1.0  \n",
            "\n",
            "[29958 rows x 25 columns]\n"
          ]
        }
      ]
    },
    {
      "cell_type": "markdown",
      "source": [
        "Una de las opciones muy comunes para eliminar ruido en dataframes sobre todo en con datos númericos es reemplazar los campos por ceros '0' en los registros o filas que no se puede eliminar."
      ],
      "metadata": {
        "id": "72yRoKTbs3Nv"
      }
    },
    {
      "cell_type": "code",
      "source": [
        "for column in df.columns:\n",
        "  df[column] = df[column].fillna(0.0)\n",
        "  print(f'columa: {column}')\n",
        "print(df)\n"
      ],
      "metadata": {
        "colab": {
          "base_uri": "https://localhost:8080/",
          "height": 0
        },
        "id": "7ahTSYIPvSTL",
        "outputId": "5dfb1ccf-8ce2-48bb-e7e9-7d903e75064b"
      },
      "execution_count": 38,
      "outputs": [
        {
          "output_type": "stream",
          "name": "stdout",
          "text": [
            "columa: ID\n",
            "columa: X1\n",
            "columa: X2\n",
            "columa: X3\n",
            "columa: X4\n",
            "columa: X5\n",
            "columa: X6\n",
            "columa: X7\n",
            "columa: X8\n",
            "columa: X9\n",
            "columa: X10\n",
            "columa: X11\n",
            "columa: X12\n",
            "columa: X13\n",
            "columa: X14\n",
            "columa: X15\n",
            "columa: X16\n",
            "columa: X17\n",
            "columa: X18\n",
            "columa: X19\n",
            "columa: X20\n",
            "columa: X21\n",
            "columa: X22\n",
            "columa: X23\n",
            "columa: Y\n",
            "          ID      X1   X2   X3   X4    X5   X6   X7   X8   X9  ...      X15  \\\n",
            "0          1   20000  2.0  2.0  1.0  24.0  2.0  2.0 -1.0 -1.0  ...      0.0   \n",
            "1          2  120000  2.0  2.0  2.0  26.0 -1.0  2.0  0.0  0.0  ...   3272.0   \n",
            "2          3   90000  2.0  2.0  2.0  34.0  0.0  0.0  0.0  0.0  ...  14331.0   \n",
            "3          4   50000  2.0  2.0  1.0  37.0  0.0  0.0  0.0  0.0  ...  28314.0   \n",
            "4          5   50000  1.0  2.0  1.0  57.0 -1.0  0.0 -1.0  0.0  ...  20940.0   \n",
            "...      ...     ...  ...  ...  ...   ...  ...  ...  ...  ...  ...      ...   \n",
            "29995  29996  220000  1.0  3.0  1.0  39.0  0.0  0.0  0.0  0.0  ...  88004.0   \n",
            "29996  29997  150000  1.0  3.0  2.0  43.0 -1.0 -1.0 -1.0 -1.0  ...   8979.0   \n",
            "29997  29998   30000  1.0  2.0  2.0  37.0  4.0  3.0  2.0 -1.0  ...  20878.0   \n",
            "29998  29999   80000  1.0  3.0  1.0  41.0  1.0 -1.0  0.0  0.0  ...  52774.0   \n",
            "29999  30000   50000  1.0  2.0  1.0  46.0  0.0  0.0  0.0  0.0  ...  36535.0   \n",
            "\n",
            "           X16      X17      X18      X19      X20     X21      X22     X23  \\\n",
            "0          0.0      0.0      0.0    689.0      0.0     0.0      0.0     0.0   \n",
            "1       3455.0   3261.0      0.0   1000.0   1000.0  1000.0      0.0  2000.0   \n",
            "2      14948.0  15549.0   1518.0   1500.0   1000.0  1000.0   1000.0  5000.0   \n",
            "3      28959.0  29547.0   2000.0   2019.0   1200.0  1100.0   1069.0  1000.0   \n",
            "4      19146.0  19131.0   2000.0  36681.0  10000.0  9000.0    689.0   679.0   \n",
            "...        ...      ...      ...      ...      ...     ...      ...     ...   \n",
            "29995  31237.0  15980.0   8500.0  20000.0   5003.0  3047.0   5000.0  1000.0   \n",
            "29996   5190.0      0.0   1837.0   3526.0   8998.0   129.0      0.0     0.0   \n",
            "29997  20582.0  19357.0      0.0      0.0  22000.0  4200.0   2000.0  3100.0   \n",
            "29998  11855.0  48944.0  85900.0   3409.0   1178.0  1926.0  52964.0  1804.0   \n",
            "29999  32428.0  15313.0   2078.0   1800.0   1430.0  1000.0   1000.0  1000.0   \n",
            "\n",
            "         Y  \n",
            "0      1.0  \n",
            "1      1.0  \n",
            "2      0.0  \n",
            "3      0.0  \n",
            "4      0.0  \n",
            "...    ...  \n",
            "29995  0.0  \n",
            "29996  0.0  \n",
            "29997  1.0  \n",
            "29998  1.0  \n",
            "29999  1.0  \n",
            "\n",
            "[29958 rows x 25 columns]\n"
          ]
        }
      ]
    },
    {
      "cell_type": "markdown",
      "source": [
        "Otro metodo para limpiar un dataframe es el eliminar los registros duplicados y para eso se usa la función duplicated() ya sea directamente en toda la tabla o en una columna indicandolo: df['columna'].duplicated()"
      ],
      "metadata": {
        "id": "JL7xua7SxETu"
      }
    },
    {
      "cell_type": "code",
      "source": [
        "df.drop_duplicates()\n",
        "print(df)"
      ],
      "metadata": {
        "colab": {
          "base_uri": "https://localhost:8080/",
          "height": 0
        },
        "id": "8ZRfQoILw9yQ",
        "outputId": "07e8ec82-81e6-4f19-e9e5-358972d1ac7c"
      },
      "execution_count": 42,
      "outputs": [
        {
          "output_type": "stream",
          "name": "stdout",
          "text": [
            "          ID      X1   X2   X3   X4    X5   X6   X7   X8   X9  ...      X15  \\\n",
            "0          1   20000  2.0  2.0  1.0  24.0  2.0  2.0 -1.0 -1.0  ...      0.0   \n",
            "1          2  120000  2.0  2.0  2.0  26.0 -1.0  2.0  0.0  0.0  ...   3272.0   \n",
            "2          3   90000  2.0  2.0  2.0  34.0  0.0  0.0  0.0  0.0  ...  14331.0   \n",
            "3          4   50000  2.0  2.0  1.0  37.0  0.0  0.0  0.0  0.0  ...  28314.0   \n",
            "4          5   50000  1.0  2.0  1.0  57.0 -1.0  0.0 -1.0  0.0  ...  20940.0   \n",
            "...      ...     ...  ...  ...  ...   ...  ...  ...  ...  ...  ...      ...   \n",
            "29995  29996  220000  1.0  3.0  1.0  39.0  0.0  0.0  0.0  0.0  ...  88004.0   \n",
            "29996  29997  150000  1.0  3.0  2.0  43.0 -1.0 -1.0 -1.0 -1.0  ...   8979.0   \n",
            "29997  29998   30000  1.0  2.0  2.0  37.0  4.0  3.0  2.0 -1.0  ...  20878.0   \n",
            "29998  29999   80000  1.0  3.0  1.0  41.0  1.0 -1.0  0.0  0.0  ...  52774.0   \n",
            "29999  30000   50000  1.0  2.0  1.0  46.0  0.0  0.0  0.0  0.0  ...  36535.0   \n",
            "\n",
            "           X16      X17      X18      X19      X20     X21      X22     X23  \\\n",
            "0          0.0      0.0      0.0    689.0      0.0     0.0      0.0     0.0   \n",
            "1       3455.0   3261.0      0.0   1000.0   1000.0  1000.0      0.0  2000.0   \n",
            "2      14948.0  15549.0   1518.0   1500.0   1000.0  1000.0   1000.0  5000.0   \n",
            "3      28959.0  29547.0   2000.0   2019.0   1200.0  1100.0   1069.0  1000.0   \n",
            "4      19146.0  19131.0   2000.0  36681.0  10000.0  9000.0    689.0   679.0   \n",
            "...        ...      ...      ...      ...      ...     ...      ...     ...   \n",
            "29995  31237.0  15980.0   8500.0  20000.0   5003.0  3047.0   5000.0  1000.0   \n",
            "29996   5190.0      0.0   1837.0   3526.0   8998.0   129.0      0.0     0.0   \n",
            "29997  20582.0  19357.0      0.0      0.0  22000.0  4200.0   2000.0  3100.0   \n",
            "29998  11855.0  48944.0  85900.0   3409.0   1178.0  1926.0  52964.0  1804.0   \n",
            "29999  32428.0  15313.0   2078.0   1800.0   1430.0  1000.0   1000.0  1000.0   \n",
            "\n",
            "         Y  \n",
            "0      1.0  \n",
            "1      1.0  \n",
            "2      0.0  \n",
            "3      0.0  \n",
            "4      0.0  \n",
            "...    ...  \n",
            "29995  0.0  \n",
            "29996  0.0  \n",
            "29997  1.0  \n",
            "29998  1.0  \n",
            "29999  1.0  \n",
            "\n",
            "[29958 rows x 25 columns]\n"
          ]
        }
      ]
    },
    {
      "cell_type": "code",
      "source": [
        "df_delete_column = df['X1'].drop_duplicates()\n",
        "print(f'cantidad de registros no duplicados: {len(df_delete_column)}\\n')\n",
        "print(df_delete_column)"
      ],
      "metadata": {
        "colab": {
          "base_uri": "https://localhost:8080/",
          "height": 0
        },
        "id": "09nFxfKLx_-D",
        "outputId": "8b0ac86b-f1ca-482d-d82e-fab2336f7c0a"
      },
      "execution_count": 46,
      "outputs": [
        {
          "output_type": "stream",
          "name": "stdout",
          "text": [
            "cantidad de registros no duplicados: 81\n",
            "\n",
            "0         20000\n",
            "1        120000\n",
            "2         90000\n",
            "3         50000\n",
            "6        500000\n",
            "          ...  \n",
            "21375    760000\n",
            "23096    690000\n",
            "23438    650000\n",
            "24320    780000\n",
            "24686    730000\n",
            "Name: X1, Length: 81, dtype: int64\n"
          ]
        }
      ]
    }
  ]
}
